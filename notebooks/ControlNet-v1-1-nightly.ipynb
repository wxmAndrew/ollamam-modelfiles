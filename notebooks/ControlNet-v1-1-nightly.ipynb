{
  "cells": [
    {
      "cell_type": "markdown",
      "metadata": {
        "id": "view-in-github"
      },
      "source": [
        "[![Open In Colab](https://colab.research.google.com/assets/colab-badge.svg)](https://colab.research.google.com/github/camenduru/ControlNet-v1-1-nightly-colab/blob/main/ControlNet-v1-1-nightly.ipynb)"
      ]
    },
    {
      "cell_type": "code",
      "execution_count": null,
      "metadata": {
        "id": "xNrvuLUUekxr"
      },
      "outputs": [],
      "source": [
        "%cd /content\n",
        "!git clone https://github.com/lllyasviel/ControlNet-v1-1-nightly\n",
        "!pip install -q torch==2.0.1+cu118 torchvision==0.15.2+cu118 torchaudio==2.0.2+cu118 torchtext==0.15.2 torchdata==0.6.1 --extra-index-url https://download.pytorch.org/whl/cu118 -U\n",
        "!pip install -q gradio einops transformers open_clip_torch pytorch_lightning==1.7.7 omegaconf xformers==0.0.20 triton==2.0.0 basicsr safetensors fvcore torchmetrics==0.11.4\n",
        "!apt -y install -qq aria2\n",
        "\n",
        "!aria2c --console-log-level=error -c -x 16 -s 16 -k 1M https://huggingface.co/Linaqruf/anything-v3.0/resolve/main/anything-v3-full.safetensors -d /content/ControlNet-v1-1-nightly/models -o anything-v3-full.safetensors\n",
        "!aria2c --console-log-level=error -c -x 16 -s 16 -k 1M https://huggingface.co/runwayml/stable-diffusion-v1-5/resolve/main/v1-5-pruned.ckpt -d /content/ControlNet-v1-1-nightly/models -o v1-5-pruned.ckpt\n",
        "!aria2c --console-log-level=error -c -x 16 -s 16 -k 1M https://huggingface.co/lllyasviel/ControlNet-v1-1/resolve/main/control_v11e_sd15_ip2p.pth -d /content/ControlNet-v1-1-nightly/models -o control_v11e_sd15_ip2p.pth \n",
        "!aria2c --console-log-level=error -c -x 16 -s 16 -k 1M https://huggingface.co/lllyasviel/ControlNet-v1-1/resolve/main/control_v11e_sd15_shuffle.pth -d /content/ControlNet-v1-1-nightly/models -o control_v11e_sd15_shuffle.pth \n",
        "!aria2c --console-log-level=error -c -x 16 -s 16 -k 1M https://huggingface.co/lllyasviel/ControlNet-v1-1/resolve/main/control_v11p_sd15_canny.pth -d /content/ControlNet-v1-1-nightly/models -o control_v11p_sd15_canny.pth \n",
        "!aria2c --console-log-level=error -c -x 16 -s 16 -k 1M https://huggingface.co/lllyasviel/ControlNet-v1-1/resolve/main/control_v11p_sd15_depth.pth -d /content/ControlNet-v1-1-nightly/models -o control_v11p_sd15_depth.pth \n",
        "!aria2c --console-log-level=error -c -x 16 -s 16 -k 1M https://huggingface.co/lllyasviel/ControlNet-v1-1/resolve/main/control_v11p_sd15_inpaint.pth -d /content/ControlNet-v1-1-nightly/models -o control_v11p_sd15_inpaint.pth \n",
        "!aria2c --console-log-level=error -c -x 16 -s 16 -k 1M https://huggingface.co/lllyasviel/ControlNet-v1-1/resolve/main/control_v11p_sd15_lineart.pth -d /content/ControlNet-v1-1-nightly/models -o control_v11p_sd15_lineart.pth \n",
        "!aria2c --console-log-level=error -c -x 16 -s 16 -k 1M https://huggingface.co/lllyasviel/ControlNet-v1-1/resolve/main/control_v11p_sd15_mlsd.pth -d /content/ControlNet-v1-1-nightly/models -o control_v11p_sd15_mlsd.pth \n",
        "!aria2c --console-log-level=error -c -x 16 -s 16 -k 1M https://huggingface.co/lllyasviel/ControlNet-v1-1/resolve/main/control_v11p_sd15_normalbae.pth -d /content/ControlNet-v1-1-nightly/models -o control_v11p_sd15_normalbae.pth \n",
        "!aria2c --console-log-level=error -c -x 16 -s 16 -k 1M https://huggingface.co/lllyasviel/ControlNet-v1-1/resolve/main/control_v11p_sd15_openpose.pth -d /content/ControlNet-v1-1-nightly/models -o control_v11p_sd15_openpose.pth \n",
        "!aria2c --console-log-level=error -c -x 16 -s 16 -k 1M https://huggingface.co/lllyasviel/ControlNet-v1-1/resolve/main/control_v11p_sd15_scribble.pth -d /content/ControlNet-v1-1-nightly/models -o control_v11p_sd15_scribble.pth \n",
        "!aria2c --console-log-level=error -c -x 16 -s 16 -k 1M https://huggingface.co/lllyasviel/ControlNet-v1-1/resolve/main/control_v11p_sd15_seg.pth -d /content/ControlNet-v1-1-nightly/models -o control_v11p_sd15_seg.pth \n",
        "!aria2c --console-log-level=error -c -x 16 -s 16 -k 1M https://huggingface.co/lllyasviel/ControlNet-v1-1/resolve/main/control_v11p_sd15_softedge.pth -d /content/ControlNet-v1-1-nightly/models -o control_v11p_sd15_softedge.pth \n",
        "!aria2c --console-log-level=error -c -x 16 -s 16 -k 1M https://huggingface.co/lllyasviel/ControlNet-v1-1/resolve/main/control_v11p_sd15s2_lineart_anime.pth -d /content/ControlNet-v1-1-nightly/models -o control_v11p_sd15s2_lineart_anime.pth \n",
        "!aria2c --console-log-level=error -c -x 16 -s 16 -k 1M https://huggingface.co/lllyasviel/ControlNet-v1-1/resolve/main/control_v11u_sd15_tile.pth -d /content/ControlNet-v1-1-nightly/models -o control_v11u_sd15_tile.pth\n",
        "\n",
        "%cd /content/ControlNet-v1-1-nightly\n",
        "!sed -i \"s/block.launch(server_name='0.0.0.0')/block.launch(server_name='0.0.0.0', share=True)/g\" gradio_annotator.py\n",
        "!sed -i \"s/block.launch(server_name='0.0.0.0')/block.launch(server_name='0.0.0.0', share=True)/g\" gradio_canny.py\n",
        "!sed -i \"s/block.launch(server_name='0.0.0.0')/block.launch(server_name='0.0.0.0', share=True)/g\" gradio_depth.py\n",
        "!sed -i \"s/block.launch(server_name='0.0.0.0')/block.launch(server_name='0.0.0.0', share=True)/g\" gradio_inpaint.py\n",
        "!sed -i \"s/block.launch(server_name='0.0.0.0')/block.launch(server_name='0.0.0.0', share=True)/g\" gradio_ip2p.py\n",
        "!sed -i \"s/block.launch(server_name='0.0.0.0')/block.launch(server_name='0.0.0.0', share=True)/g\" gradio_lineart.py\n",
        "!sed -i \"s/block.launch(server_name='0.0.0.0')/block.launch(server_name='0.0.0.0', share=True)/g\" gradio_lineart_anime.py\n",
        "!sed -i \"s/block.launch(server_name='0.0.0.0')/block.launch(server_name='0.0.0.0', share=True)/g\" gradio_mlsd.py\n",
        "!sed -i \"s/block.launch(server_name='0.0.0.0')/block.launch(server_name='0.0.0.0', share=True)/g\" gradio_normalbae.py\n",
        "!sed -i \"s/block.launch(server_name='0.0.0.0')/block.launch(server_name='0.0.0.0', share=True)/g\" gradio_openpose.py\n",
        "!sed -i \"s/block.launch(server_name='0.0.0.0')/block.launch(server_name='0.0.0.0', share=True)/g\" gradio_scribble.py\n",
        "!sed -i \"s/block.launch(server_name='0.0.0.0')/block.launch(server_name='0.0.0.0', share=True)/g\" gradio_scribble_interactive.py\n",
        "!sed -i \"s/block.launch(server_name='0.0.0.0')/block.launch(server_name='0.0.0.0', share=True)/g\" gradio_seg.py\n",
        "!sed -i \"s/block.launch(server_name='0.0.0.0')/block.launch(server_name='0.0.0.0', share=True)/g\" gradio_shuffle.py\n",
        "!sed -i \"s/block.launch(server_name='0.0.0.0')/block.launch(server_name='0.0.0.0', share=True)/g\" gradio_softedge.py\n",
        "!sed -i \"s/block.launch(server_name='0.0.0.0')/block.launch(server_name='0.0.0.0', share=True)/g\" gradio_tile.py"
      ]
    },
    {
      "cell_type": "code",
      "execution_count": null,
      "metadata": {
        "id": "YubrYoAThN9C"
      },
      "outputs": [],
      "source": [
        "%cd /content/ControlNet-v1-1-nightly\n",
        "!python gradio_annotator.py"
      ]
    },
    {
      "cell_type": "code",
      "execution_count": null,
      "metadata": {
        "colab": {
          "base_uri": "https://localhost:8080/"
        },
        "id": "cG1tHwxOhUtW",
        "outputId": "47305d9f-3b25-4dc0-9018-88b87e0fe70d"
      },
      "outputs": [],
      "source": [
        "%cd /content/ControlNet-v1-1-nightly\n",
        "!python gradio_canny.py"
      ]
    },
    {
      "cell_type": "code",
      "execution_count": null,
      "metadata": {
        "id": "OSK0CipvhVkq"
      },
      "outputs": [],
      "source": [
        "%cd /content/ControlNet-v1-1-nightly\n",
        "!python gradio_depth.py"
      ]
    },
    {
      "cell_type": "code",
      "execution_count": null,
      "metadata": {
        "id": "-dC1G7EohWR5"
      },
      "outputs": [],
      "source": [
        "%cd /content/ControlNet-v1-1-nightly\n",
        "!python gradio_inpaint.py"
      ]
    },
    {
      "cell_type": "code",
      "execution_count": null,
      "metadata": {
        "id": "7yAIuSbHhXRa"
      },
      "outputs": [],
      "source": [
        "%cd /content/ControlNet-v1-1-nightly\n",
        "!python gradio_ip2p.py"
      ]
    },
    {
      "cell_type": "code",
      "execution_count": null,
      "metadata": {
        "id": "LjMMt88vhYBe"
      },
      "outputs": [],
      "source": [
        "%cd /content/ControlNet-v1-1-nightly\n",
        "!python gradio_lineart.py"
      ]
    },
    {
      "cell_type": "code",
      "execution_count": null,
      "metadata": {
        "id": "0lQGmHLShYwt"
      },
      "outputs": [],
      "source": [
        "%cd /content/ControlNet-v1-1-nightly\n",
        "!python gradio_lineart_anime.py"
      ]
    },
    {
      "cell_type": "code",
      "execution_count": null,
      "metadata": {
        "id": "At04YVZthZg-"
      },
      "outputs": [],
      "source": [
        "%cd /content/ControlNet-v1-1-nightly\n",
        "!python gradio_mlsd.py"
      ]
    },
    {
      "cell_type": "code",
      "execution_count": null,
      "metadata": {
        "id": "AImJKWuDhaTQ"
      },
      "outputs": [],
      "source": [
        "%cd /content/ControlNet-v1-1-nightly\n",
        "!python gradio_normalbae.py"
      ]
    },
    {
      "cell_type": "code",
      "execution_count": null,
      "metadata": {
        "id": "9L68RBEXha-2"
      },
      "outputs": [],
      "source": [
        "%cd /content/ControlNet-v1-1-nightly\n",
        "!python gradio_openpose.py"
      ]
    },
    {
      "cell_type": "code",
      "execution_count": null,
      "metadata": {
        "id": "LcNlPjbahbnZ"
      },
      "outputs": [],
      "source": [
        "%cd /content/ControlNet-v1-1-nightly\n",
        "!python gradio_scribble.py"
      ]
    },
    {
      "cell_type": "code",
      "execution_count": null,
      "metadata": {
        "id": "VYnaiKwThcdx"
      },
      "outputs": [],
      "source": [
        "%cd /content/ControlNet-v1-1-nightly\n",
        "!python gradio_scribble_interactive.py"
      ]
    },
    {
      "cell_type": "code",
      "execution_count": null,
      "metadata": {
        "id": "sEEJsyDDhdPG"
      },
      "outputs": [],
      "source": [
        "%cd /content/ControlNet-v1-1-nightly\n",
        "!python gradio_seg.py"
      ]
    },
    {
      "cell_type": "code",
      "execution_count": null,
      "metadata": {
        "id": "T5D3-agHhd-V"
      },
      "outputs": [],
      "source": [
        "%cd /content/ControlNet-v1-1-nightly\n",
        "!python gradio_shuffle.py"
      ]
    },
    {
      "cell_type": "code",
      "execution_count": null,
      "metadata": {
        "id": "3eh9m56xhemp"
      },
      "outputs": [],
      "source": [
        "%cd /content/ControlNet-v1-1-nightly\n",
        "!python gradio_softedge.py"
      ]
    },
    {
      "cell_type": "code",
      "execution_count": null,
      "metadata": {
        "id": "lc0wKcLFhfP5"
      },
      "outputs": [],
      "source": [
        "%cd /content/ControlNet-v1-1-nightly\n",
        "!python gradio_tile.py"
      ]
    }
  ],
  "metadata": {
    "accelerator": "GPU",
    "colab": {
      "provenance": []
    },
    "gpuClass": "standard",
    "kernelspec": {
      "display_name": "Python 3",
      "name": "python3"
    },
    "language_info": {
      "name": "python"
    }
  },
  "nbformat": 4,
  "nbformat_minor": 0
}
