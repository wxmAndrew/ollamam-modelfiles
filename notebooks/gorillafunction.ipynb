{
 "cells": [
  {
   "cell_type": "code",
   "execution_count": 1,
   "metadata": {},
   "outputs": [],
   "source": [
    "# Import Chat completion template and set-up variables\n",
    "import openai\n",
    "import urllib.parse\n",
    "import json\n",
    "\n",
    "\n",
    "# Report issues\n",
    "def raise_issue(e, model, prompt):\n",
    "    issue_title = urllib.parse.quote(\"[bug] Hosted Gorilla: <Issue>\")\n",
    "    issue_body = urllib.parse.quote(f\"Exception: {e}\\nFailed model: {model}, for prompt: {prompt}\")\n",
    "    issue_url = f\"https://github.com/ShishirPatil/gorilla/issues/new?assignees=&labels=hosted-gorilla&projects=&template=hosted-gorilla-.md&title={issue_title}&body={issue_body}\"\n",
    "    print(f\"An exception has occurred: {e} \\nPlease raise an issue here: {issue_url}\")\n",
    "\n",
    "# Query Gorilla server\n",
    "def get_gorilla_response(prompt=\"Call me an Uber ride type \\\"Plus\\\" in Berkeley at zipcode 94704 in 10 minutes\", model=\"gorilla-openfunctions-v0\", functions=[]):\n",
    "  openai.api_key = \"EMPTY\" # Hosted for free with ❤️ from UC Berkeley\n",
    "  openai.api_base = \"http://localhost:1234/v1\"\n",
    "  try:\n",
    "    prompt = f'<<question>> {prompt} <<function>> {json.dumps(functions)}'\n",
    "    completion = openai.ChatCompletion.create(\n",
    "      model=\"gorilla-openfunctions-v1\",\n",
    "      temperature=0.0,\n",
    "      messages=[{\"role\": \"user\", \"content\": prompt}],\n",
    "      functions=functions,\n",
    "    )\n",
    "    return completion.choices[0].message.content\n",
    "  except Exception as e:\n",
    "    print(e, model, prompt)\n"
   ]
  },
  {
   "cell_type": "code",
   "execution_count": 2,
   "metadata": {},
   "outputs": [
    {
     "data": {
      "text/plain": [
       "'uber.ride(loc=\"Berkeley\", type=\"Plus\", time=10)'"
      ]
     },
     "execution_count": 2,
     "metadata": {},
     "output_type": "execute_result"
    }
   ],
   "source": [
    "query = \"Call me an Uber ride type \\\"Plus\\\" in Berkeley in '10 minutes'\"\n",
    "functions = [\n",
    "    {\n",
    "        \"name\": \"Uber Carpool\",\n",
    "        \"api_name\": \"uber.ride\",\n",
    "        \"description\": \"Find suitable ride for customers given the location, type of ride, and the amount of time the customer is willing to wait as parameters\",\n",
    "        \"parameters\":  [{\"name\": \"loc\", \"description\": \"location of the starting place of the uber ride\"}, {\"name\":\"type\", \"enum\": [\"plus\", \"comfort\", \"black\"], \"description\": \"types of uber ride user is ordering\"}, {\"name\": \"time\", \"description\": \"the amount of time in minutes the customer is willing to wait\"}]\n",
    "    }\n",
    "]\n",
    "get_gorilla_response(query, functions=functions)"
   ]
  },
  {
   "cell_type": "code",
   "execution_count": 4,
   "metadata": {},
   "outputs": [
    {
     "data": {
      "text/plain": [
       "\"uber.eat.order(restaurants='McDonald's', items=['burgers'])\""
      ]
     },
     "execution_count": 4,
     "metadata": {},
     "output_type": "execute_result"
    }
   ],
   "source": [
    "function_documentation = [{\n",
    "    \"name\" : \"Order Food on Uber\",\n",
    "    \"api_name\": \"uber.eat.order\",\n",
    "    \"description\": \"Order food on uber eat, specifying items and their quantities\",\n",
    "    \"parameters\": [\n",
    "        {\n",
    "            \"name\": \"restaurants\",\n",
    "            \"description\": \"The chosen restaurant\"\n",
    "        },\n",
    "        {\n",
    "            \"name\": \"items\",\n",
    "            \"description\": \"List of selected items\"\n",
    "        }\n",
    "    ]\n",
    "}]\n",
    "\n",
    "query =  \"I want to order 'burgers'  from uber eat McDonald\\'s\"\n",
    "get_gorilla_response(query, functions=function_documentation)\n",
    "#get_gorilla_response(\"I want to order five burgers and six chicken wings from McDonald's.\", functions=function_documentation)"
   ]
  },
  {
   "cell_type": "code",
   "execution_count": null,
   "metadata": {},
   "outputs": [],
   "source": [
    "functions= [  \n",
    "    {\n",
    "        \"name\" : \"Search hotels\",\n",
    "        \"api_name\": \"search_hotels\",\n",
    "        \"description\": \"Retrieves hotels from the search\",\n",
    "        \"parameters\": [\n",
    "             {\n",
    "                \"name\": \"location\",\n",
    "                \"description\": \"The location of the hotel (i.e. Seattle, WA)\"\n",
    "             }\n",
    "        ]\n",
    "    }\n",
    "]  "
   ]
  },
  {
   "cell_type": "code",
   "execution_count": null,
   "metadata": {},
   "outputs": [
    {
     "data": {
      "text/plain": [
       "'search_hotels(location=\"San Diego\")'"
      ]
     },
     "execution_count": 48,
     "metadata": {},
     "output_type": "execute_result"
    }
   ],
   "source": [
    "query =\"Find hotels in San Diego\"\n",
    "get_gorilla_response(query, functions=functions)"
   ]
  },
  {
   "cell_type": "code",
   "execution_count": null,
   "metadata": {},
   "outputs": [
    {
     "data": {
      "text/plain": [
       "'schedule_meeting(attene=\"John Doe\", time=\"3 PM\")'"
      ]
     },
     "execution_count": 50,
     "metadata": {},
     "output_type": "execute_result"
    }
   ],
   "source": [
    "functions= [  \n",
    "    {\n",
    "        \"name\" : \"schedule_meeting\",\n",
    "        \"api_name\": \"schedule_meeting\",\n",
    "        \"description\": \"Please schedule a meeting.\",\n",
    "        \"parameters\": [\n",
    "             {\n",
    "                \"name\": \"attendee\",\n",
    "                \"description\":  \"Attendee for the meeting\"\n",
    "             },\n",
    "             {\n",
    "                \"name\": \"time\",\n",
    "                \"description\": \"Time of the meeting\"\n",
    "             }\n",
    "        ]\n",
    "    }\n",
    "]\n",
    "query =\"Schedule a meeting with John Doe next Tuesday at 3 PM.\"\n",
    "get_gorilla_response(query, functions=functions)  "
   ]
  },
  {
   "cell_type": "code",
   "execution_count": null,
   "metadata": {},
   "outputs": [
    {
     "data": {
      "text/plain": [
       "'get_stock_price(ticker_symbol=\"AAPL\")'"
      ]
     },
     "execution_count": 52,
     "metadata": {},
     "output_type": "execute_result"
    }
   ],
   "source": [
    "functions= [  \n",
    "    {\n",
    "        \"name\" : \"get_stock_price\",\n",
    "        \"api_name\": \"get_stock_price\",\n",
    "        \"description\": \"Get current stock price\",\n",
    "        \"parameters\": [\n",
    "             {\n",
    "                \"name\": \"ticker_symbol\",\n",
    "                \"description\":  \"Ticker symbol of the stock\"\n",
    "             }\n",
    "        ]\n",
    "    }\n",
    "]\n",
    "query =\"What's the current price of Apple stocks?\"\n",
    "get_gorilla_response(query, functions=functions)  "
   ]
  },
  {
   "cell_type": "code",
   "execution_count": null,
   "metadata": {},
   "outputs": [
    {
     "data": {
      "text/plain": [
       "'book_travel(destination=\"Amsterdam\", departure=\"Bonn\", travel_mode=\"direct\")'"
      ]
     },
     "execution_count": 60,
     "metadata": {},
     "output_type": "execute_result"
    }
   ],
   "source": [
    "functions= [  \n",
    "    {\n",
    "        \"name\" : \"book_travel\",\n",
    "        \"api_name\": \"book_travel\",\n",
    "        \"description\":  \"Book travel\",\n",
    "        \"parameters\": [\n",
    "             {\n",
    "                \"name\": \"destination\",\n",
    "                \"description\":   \"Your travel destination.\"\n",
    "             },\n",
    "             {\n",
    "                \"name\": \"departure\",\n",
    "                \"description\":  \"From where are you traveling\"\n",
    "             },\n",
    "             {\n",
    "                \"name\": \"travel_mode\",\n",
    "                \"description\":    \"What mode of travel will it be.\"\n",
    "             }\n",
    "        ]\n",
    "    }\n",
    "]\n",
    "query =\"I need to book a trip from Bonn to Amsterdam. The airline must fly direct.\"\n",
    "get_gorilla_response(query, functions=functions)  "
   ]
  },
  {
   "cell_type": "code",
   "execution_count": null,
   "metadata": {},
   "outputs": [
    {
     "data": {
      "text/plain": [
       "'send_email(to_address=\"cobus@humanfirst.ai\", subject=\"Sales forecast\")'"
      ]
     },
     "execution_count": 74,
     "metadata": {},
     "output_type": "execute_result"
    }
   ],
   "source": [
    "functions= [  \n",
    "    {\n",
    "        \"name\" : \"send_email\",\n",
    "        \"api_name\": \"send_email\",\n",
    "        \"description\": \"template to have an email sent.\",\n",
    "        \"parameters\": [\n",
    "             {\n",
    "                \"name\": \"to_address\",\n",
    "                \"description\":  \"To address for email\"\n",
    "             },\n",
    "             {\n",
    "                \"name\": \"subject\",\n",
    "                \"description\": \"the subject of the email\"\n",
    "             }\n",
    "        ]\n",
    "    }\n",
    "]\n",
    "query =\"Send Cobus from HumanFirst AI an email and ask him for the sales forecast spreadsheet.\"\n",
    "get_gorilla_response(query, functions=functions)  "
   ]
  }
 ],
 "metadata": {
  "kernelspec": {
   "display_name": "Python 3.11.0 ('cv')",
   "language": "python",
   "name": "python3"
  },
  "language_info": {
   "codemirror_mode": {
    "name": "ipython",
    "version": 3
   },
   "file_extension": ".py",
   "mimetype": "text/x-python",
   "name": "python",
   "nbconvert_exporter": "python",
   "pygments_lexer": "ipython3",
   "version": "3.11.0"
  },
  "orig_nbformat": 4,
  "vscode": {
   "interpreter": {
    "hash": "866c967b7c2635af016045250ae7db1714c5ca5c11c0210c74a847441a5d53aa"
   }
  }
 },
 "nbformat": 4,
 "nbformat_minor": 2
}
