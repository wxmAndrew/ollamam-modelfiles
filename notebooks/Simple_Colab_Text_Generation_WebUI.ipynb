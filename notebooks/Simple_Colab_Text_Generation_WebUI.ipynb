{
  "nbformat": 4,
  "nbformat_minor": 0,
  "metadata": {
    "colab": {
      "provenance": [],
      "gpuType": "T4",
      "authorship_tag": "ABX9TyMXCzVrzt3kHuZmn9zIUhJh",
      "include_colab_link": true
    },
    "kernelspec": {
      "name": "python3",
      "display_name": "Python 3"
    },
    "language_info": {
      "name": "python"
    },
    "accelerator": "GPU"
  },
  "cells": [
    {
      "cell_type": "markdown",
      "metadata": {
        "id": "view-in-github",
        "colab_type": "text"
      },
      "source": [
        "<a href=\"https://colab.research.google.com/github/TheLocalLab/text-generation-webui-simple-colab/blob/main/Simple_Colab_Text_Generation_WebUI.ipynb\" target=\"_parent\"><img src=\"https://colab.research.google.com/assets/colab-badge.svg\" alt=\"Open In Colab\"/></a>"
      ]
    },
    {
      "cell_type": "markdown",
      "source": [
        "# **A real simple and easy way to run Ooba Booga WebUI right here on Google Colab!**\n",
        "\n"
      ],
      "metadata": {
        "id": "noXRu61nC7ig"
      }
    },
    {
      "cell_type": "markdown",
      "source": [
        "1. First, Clone the text-generation-webui Git Repository."
      ],
      "metadata": {
        "id": "ChxGqKXCBEhk"
      }
    },
    {
      "cell_type": "code",
      "execution_count": null,
      "metadata": {
        "id": "fMc64gvBAuI_"
      },
      "outputs": [],
      "source": [
        "!git clone https://github.com/oobabooga/text-generation-webui.git"
      ]
    },
    {
      "cell_type": "markdown",
      "source": [
        "2. Import the Python os module and change the current working directory to the text-generation-webui directory."
      ],
      "metadata": {
        "id": "itYf_OqJBdsx"
      }
    },
    {
      "cell_type": "code",
      "source": [
        "import os\n",
        "os.chdir(\"./text-generation-webui\")"
      ],
      "metadata": {
        "id": "VC5p-TWRBYds"
      },
      "execution_count": 2,
      "outputs": []
    },
    {
      "cell_type": "markdown",
      "source": [
        "3. Run updates and install the webui requirements."
      ],
      "metadata": {
        "id": "oK3XjsNdCHY2"
      }
    },
    {
      "cell_type": "code",
      "source": [
        "!git pull\n",
        "!pip install -r requirements.txt"
      ],
      "metadata": {
        "id": "FOpteI_TB_sN"
      },
      "execution_count": null,
      "outputs": []
    },
    {
      "cell_type": "markdown",
      "source": [
        "4. Run the python server.py file and open the sharable gradio link to open the text-generation interface. Run models and have fun!"
      ],
      "metadata": {
        "id": "dnsLfPbuCcbS"
      }
    },
    {
      "cell_type": "code",
      "source": [
        "!python server.py --share"
      ],
      "metadata": {
        "id": "5ZK8AGMGCbJp"
      },
      "execution_count": null,
      "outputs": []
    }
  ]
}