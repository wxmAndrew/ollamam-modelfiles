{
 "cells": [
  {
   "cell_type": "code",
   "execution_count": 1,
   "id": "9968fcc2-28a2-4a76-a7c7-e47584b124df",
   "metadata": {},
   "outputs": [
    {
     "name": "stdout",
     "output_type": "stream",
     "text": [
      "\u001b[33mWARNING: Running pip as the 'root' user can result in broken permissions and conflicting behaviour with the system package manager. It is recommended to use a virtual environment instead: https://pip.pypa.io/warnings/venv\u001b[0m\u001b[33m\n",
      "\u001b[0m"
     ]
    }
   ],
   "source": [
    "!pip install -q -U accelerate transformers peft pip install protobuf sentencepiece"
   ]
  },
  {
   "cell_type": "code",
   "execution_count": 2,
   "id": "e37db66b-e3cb-40f3-b9cf-c448ba366117",
   "metadata": {},
   "outputs": [],
   "source": [
    "!git config --global credential.helper store"
   ]
  },
  {
   "cell_type": "code",
   "execution_count": 1,
   "id": "3754c550-7101-4ef5-b480-b6f64e78b9c2",
   "metadata": {},
   "outputs": [
    {
     "data": {
      "application/vnd.jupyter.widget-view+json": {
       "model_id": "2fd1ba977a424243b749b9da4607d04d",
       "version_major": 2,
       "version_minor": 0
      },
      "text/plain": [
       "VBox(children=(HTML(value='<center> <img\\nsrc=https://huggingface.co/front/assets/huggingface_logo-noborder.sv…"
      ]
     },
     "metadata": {},
     "output_type": "display_data"
    }
   ],
   "source": [
    "from huggingface_hub import notebook_login\n",
    "notebook_login()"
   ]
  },
  {
   "cell_type": "code",
   "execution_count": 2,
   "id": "6a28abf3-5761-4d19-970b-f51bdde2536d",
   "metadata": {},
   "outputs": [],
   "source": [
    "# Cell 1: Imports\n",
    "from transformers import AutoModelForCausalLM, AutoTokenizer\n",
    "from peft import PeftModel\n",
    "import torch"
   ]
  },
  {
   "cell_type": "code",
   "execution_count": 6,
   "id": "f7227a0c-5ae7-4ce3-b3b0-3cdcae70ebf0",
   "metadata": {},
   "outputs": [],
   "source": [
    "# Cell 2: Parameters (replace the values with your actual paths and preferences)\n",
    "base_model_name_or_path = \"codellama/CodeLlama-34b-Python-hf\"\n",
    "peft_model_path = \"TokenBender/UnnaturalCodeLLama-P-adapter\"\n",
    "output_dir = \"UnnaturalCodellama_P\"\n",
    "device = \"cuda:0\"  # or specify a specific device like \"cuda:0\"\n",
    "push_to_hub = False  # or True if you want to push to the hub"
   ]
  },
  {
   "cell_type": "code",
   "execution_count": 4,
   "id": "3c0a1aa9-f86b-4374-99a6-674ea608712c",
   "metadata": {
    "scrolled": true
   },
   "outputs": [
    {
     "name": "stdout",
     "output_type": "stream",
     "text": [
      "Loading base model: codellama/CodeLlama-34b-Python-hf\n"
     ]
    },
    {
     "data": {
      "application/vnd.jupyter.widget-view+json": {
       "model_id": "9205a9735bce4ee5acc3887db2aef34d",
       "version_major": 2,
       "version_minor": 0
      },
      "text/plain": [
       "Loading checkpoint shards:   0%|          | 0/7 [00:00<?, ?it/s]"
      ]
     },
     "metadata": {},
     "output_type": "display_data"
    }
   ],
   "source": [
    "# Cell 3: Load Base Model\n",
    "print(f\"Loading base model: {base_model_name_or_path}\")\n",
    "if device == 'auto':\n",
    "    device_arg = { 'device_map': 'auto' }\n",
    "else:\n",
    "    device_arg = { 'device_map': { \"\": device} }\n",
    "\n",
    "base_model = AutoModelForCausalLM.from_pretrained(\n",
    "    base_model_name_or_path,\n",
    "    return_dict=True,\n",
    "    torch_dtype=torch.float16,\n",
    "    **device_arg\n",
    ")"
   ]
  },
  {
   "cell_type": "code",
   "execution_count": 5,
   "id": "f40c8541",
   "metadata": {},
   "outputs": [
    {
     "name": "stdout",
     "output_type": "stream",
     "text": [
      "Loading PEFT: TokenBender/UnnaturalCodeLLama-P-adapter\n",
      "Running merge_and_unload\n"
     ]
    }
   ],
   "source": [
    "# Cell 4: Load PEFT and Merge\n",
    "print(f\"Loading PEFT: {peft_model_path}\")\n",
    "model = PeftModel.from_pretrained(base_model, peft_model_path, **device_arg)\n",
    "print(f\"Running merge_and_unload\")\n",
    "model = model.merge_and_unload()"
   ]
  },
  {
   "cell_type": "code",
   "execution_count": 7,
   "id": "ed076b41-8f2b-4bc6-b79b-a49731802cea",
   "metadata": {
    "scrolled": true
   },
   "outputs": [
    {
     "name": "stderr",
     "output_type": "stream",
     "text": [
      "Special tokens have been added in the vocabulary, make sure the associated word embeddings are fine-tuned or trained.\n"
     ]
    },
    {
     "name": "stdout",
     "output_type": "stream",
     "text": [
      "Model saved to UnnaturalCodellama_P\n"
     ]
    }
   ],
   "source": [
    "# Cell 5: Tokenizer and Saving\n",
    "tokenizer = AutoTokenizer.from_pretrained(base_model_name_or_path)\n",
    "\n",
    "if push_to_hub:\n",
    "    print(f\"Saving to hub ...\")\n",
    "    model.push_to_hub(f\"{output_dir}\", use_temp_dir=True)\n",
    "    tokenizer.push_to_hub(f\"{output_dir}\", use_temp_dir=True)\n",
    "else:\n",
    "    model.save_pretrained(f\"{output_dir}\")\n",
    "    tokenizer.save_pretrained(f\"{output_dir}\")\n",
    "    print(f\"Model saved to {output_dir}\")"
   ]
  },
  {
   "cell_type": "markdown",
   "id": "81ac477e",
   "metadata": {},
   "source": [
    "## When push_to_hub is set to False and we push manually separately"
   ]
  },
  {
   "cell_type": "code",
   "execution_count": null,
   "id": "022904dd",
   "metadata": {
    "scrolled": true
   },
   "outputs": [
    {
     "data": {
      "application/vnd.jupyter.widget-view+json": {
       "model_id": "f7837f7f93f04a46953358059b09e3ff",
       "version_major": 2,
       "version_minor": 0
      },
      "text/plain": [
       "Loading checkpoint shards:   0%|          | 0/7 [00:00<?, ?it/s]"
      ]
     },
     "metadata": {},
     "output_type": "display_data"
    },
    {
     "data": {
      "application/vnd.jupyter.widget-view+json": {
       "model_id": "f86a1ff22c354642ac27c0bada6b1b82",
       "version_major": 2,
       "version_minor": 0
      },
      "text/plain": [
       "Upload 7 LFS files:   0%|          | 0/7 [00:00<?, ?it/s]"
      ]
     },
     "metadata": {},
     "output_type": "display_data"
    },
    {
     "data": {
      "application/vnd.jupyter.widget-view+json": {
       "model_id": "8abca5c09e3342f799ba7f4749382832",
       "version_major": 2,
       "version_minor": 0
      },
      "text/plain": [
       "pytorch_model-00002-of-00007.bin:   0%|          | 0.00/9.69G [00:00<?, ?B/s]"
      ]
     },
     "metadata": {},
     "output_type": "display_data"
    },
    {
     "data": {
      "application/vnd.jupyter.widget-view+json": {
       "model_id": "d52d0217b9784d4ba9401543f24f2244",
       "version_major": 2,
       "version_minor": 0
      },
      "text/plain": [
       "pytorch_model-00004-of-00007.bin:   0%|          | 0.00/9.69G [00:00<?, ?B/s]"
      ]
     },
     "metadata": {},
     "output_type": "display_data"
    },
    {
     "data": {
      "application/vnd.jupyter.widget-view+json": {
       "model_id": "72f1e3762d654e93808949680f096d8d",
       "version_major": 2,
       "version_minor": 0
      },
      "text/plain": [
       "pytorch_model-00003-of-00007.bin:   0%|          | 0.00/9.69G [00:00<?, ?B/s]"
      ]
     },
     "metadata": {},
     "output_type": "display_data"
    },
    {
     "data": {
      "application/vnd.jupyter.widget-view+json": {
       "model_id": "39e1091632a64e25a95a511e238f2294",
       "version_major": 2,
       "version_minor": 0
      },
      "text/plain": [
       "pytorch_model-00001-of-00007.bin:   0%|          | 0.00/9.85G [00:00<?, ?B/s]"
      ]
     },
     "metadata": {},
     "output_type": "display_data"
    },
    {
     "data": {
      "application/vnd.jupyter.widget-view+json": {
       "model_id": "ac33a2144381464380e62256088a9155",
       "version_major": 2,
       "version_minor": 0
      },
      "text/plain": [
       "pytorch_model-00005-of-00007.bin:   0%|          | 0.00/9.69G [00:00<?, ?B/s]"
      ]
     },
     "metadata": {},
     "output_type": "display_data"
    },
    {
     "data": {
      "application/vnd.jupyter.widget-view+json": {
       "model_id": "033a7365cc8545669e755ab8e12d840e",
       "version_major": 2,
       "version_minor": 0
      },
      "text/plain": [
       "pytorch_model-00006-of-00007.bin:   0%|          | 0.00/9.69G [00:00<?, ?B/s]"
      ]
     },
     "metadata": {},
     "output_type": "display_data"
    },
    {
     "data": {
      "application/vnd.jupyter.widget-view+json": {
       "model_id": "efe1e01e4b234df7b2f1dbb2ec1d29fd",
       "version_major": 2,
       "version_minor": 0
      },
      "text/plain": [
       "pytorch_model-00007-of-00007.bin:   0%|          | 0.00/9.19G [00:00<?, ?B/s]"
      ]
     },
     "metadata": {},
     "output_type": "display_data"
    }
   ],
   "source": [
    "from transformers import AutoModelForCausalLM, AutoTokenizer\n",
    "\n",
    "model = AutoModelForCausalLM.from_pretrained(output_dir, torch_dtype=torch.float16)\n",
    "tokenizer = AutoTokenizer.from_pretrained(output_dir)\n",
    "\n",
    "model.push_to_hub(f\"{output_dir}\")\n",
    "tokenizer.push_to_hub(f\"{output_dir}\")"
   ]
  },
  {
   "cell_type": "code",
   "execution_count": null,
   "id": "71aa40e8",
   "metadata": {},
   "outputs": [],
   "source": [
    "!pip install numba -q -U"
   ]
  },
  {
   "cell_type": "code",
   "execution_count": 10,
   "id": "4ddefd47",
   "metadata": {},
   "outputs": [],
   "source": [
    "from numba import cuda\n",
    "device = cuda.get_current_device()\n",
    "device.reset()"
   ]
  },
  {
   "cell_type": "code",
   "execution_count": null,
   "id": "f895350a-87bf-4c8c-aabe-d94a434b3406",
   "metadata": {},
   "outputs": [],
   "source": []
  }
 ],
 "metadata": {
  "kernelspec": {
   "display_name": "Python 3 (ipykernel)",
   "language": "python",
   "name": "python3"
  },
  "language_info": {
   "codemirror_mode": {
    "name": "ipython",
    "version": 3
   },
   "file_extension": ".py",
   "mimetype": "text/x-python",
   "name": "python",
   "nbconvert_exporter": "python",
   "pygments_lexer": "ipython3",
   "version": "3.10.11"
  }
 },
 "nbformat": 4,
 "nbformat_minor": 5
}
