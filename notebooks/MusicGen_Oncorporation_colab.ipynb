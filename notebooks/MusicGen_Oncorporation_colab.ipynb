{
  "cells": [
    {
      "cell_type": "markdown",
      "metadata": {
        "id": "view-in-github"
      },
      "source": [
        "[![Open In Colab](https://colab.research.google.com/assets/colab-badge.svg)](https://colab.research.google.com/github/camenduru/MusicGen-colab/blob/main/MusicGen_Oncorporation_colab.ipynb)"
      ]
    },
    {
      "cell_type": "code",
      "execution_count": null,
      "metadata": {},
      "outputs": [],
      "source": [
        "%cd /content\n",
        "!git clone https://github.com/Oncorporation/audiocraft\n",
        "%cd /content/audiocraft\n",
        "!sed -i -e 's/textwrap/textwrap3/g' /content/audiocraft/requirements.txt\n",
        "!wget https://github.com/camenduru/audiocraft/raw/Oncorporation/assets/arial.ttf -O /content/audiocraft/arial.ttf\n",
        "!pip install -r requirements.txt\n",
        "!python app.py --share"
      ]
    }
  ],
  "metadata": {
    "accelerator": "GPU",
    "colab": {
      "gpuType": "T4",
      "provenance": []
    },
    "kernelspec": {
      "display_name": "Python 3",
      "name": "python3"
    },
    "language_info": {
      "name": "python"
    }
  },
  "nbformat": 4,
  "nbformat_minor": 0
}
