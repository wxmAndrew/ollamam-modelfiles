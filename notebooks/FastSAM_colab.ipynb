{
  "cells": [
    {
      "cell_type": "markdown",
      "metadata": {
        "id": "view-in-github"
      },
      "source": [
        "[![Open In Colab](https://colab.research.google.com/assets/colab-badge.svg)](https://colab.research.google.com/github/camenduru/FastSAM-colab/blob/main/FastSAM_colab.ipynb)"
      ]
    },
    {
      "cell_type": "code",
      "execution_count": null,
      "metadata": {
        "id": "VjYy0F2gZIPR"
      },
      "outputs": [],
      "source": [
        "%cd /content\n",
        "!git clone -b dev https://github.com/camenduru/FastSAM-hf\n",
        "\n",
        "!wget https://github.com/camenduru/FastSAM-hf/assets/54370274/7577c837-470f-4e5b-804f-ae606642a476 -O /content/FastSAM-hf/examples/dogs.jpg\n",
        "!wget https://github.com/camenduru/FastSAM-hf/assets/54370274/92dc376d-6a12-415a-9875-026efcd57625 -O /content/FastSAM-hf/examples/flowers.jpg\n",
        "!wget https://github.com/camenduru/FastSAM-hf/assets/54370274/c50e978b-daf1-41fd-94c8-f69dcffd506d -O /content/FastSAM-hf/examples/fruits.jpg\n",
        "!wget https://github.com/camenduru/FastSAM-hf/assets/54370274/fb512280-5923-4efd-ac45-015b84b5ad58 -O /content/FastSAM-hf/examples/sa_192.jpg\n",
        "!wget https://github.com/camenduru/FastSAM-hf/assets/54370274/af0fd395-351d-4448-bd3a-7cdf010642f4 -O /content/FastSAM-hf/examples/sa_414.jpg\n",
        "!wget https://github.com/camenduru/FastSAM-hf/assets/54370274/1cf08adc-cfde-45a0-bedb-919c3a3759c3 -O /content/FastSAM-hf/examples/sa_561.jpg\n",
        "!wget https://github.com/camenduru/FastSAM-hf/assets/54370274/2cb9e509-559c-45fc-af93-50824ae4cb7f -O /content/FastSAM-hf/examples/sa_862.jpg\n",
        "!wget https://github.com/camenduru/FastSAM-hf/assets/54370274/65e6ca2d-d601-473e-b2c9-860fa07086f2 -O /content/FastSAM-hf/examples/sa_1309.jpg\n",
        "!wget https://github.com/camenduru/FastSAM-hf/assets/54370274/e0ffbc0e-f150-4edf-ba92-13f8f858e7df -O /content/FastSAM-hf/examples/sa_8776.jpg\n",
        "!wget https://github.com/camenduru/FastSAM-hf/assets/54370274/14d7fc73-677b-4a43-baa8-cfe9e46e7bb4 -O /content/FastSAM-hf/examples/sa_10039.jpg\n",
        "!wget https://github.com/camenduru/FastSAM-hf/assets/54370274/f8aea835-6b32-4cb2-90c0-4c1f6b3775b9 -O /content/FastSAM-hf/examples/sa_11025.jpg\n",
        "\n",
        "!wget https://huggingface.co/camenduru/FastSAM/resolve/main/FastSAM.pt -O /content/FastSAM-hf/weights/FastSAM.pt\n",
        "!wget https://huggingface.co/camenduru/FastSAM/resolve/main/CLIP_ViT_B_32.pt -O /content/FastSAM-hf/weights/CLIP_ViT_B_32.pt\n",
        "\n",
        "!pip install -q gradio==3.45.1 ultralytics==8.0.121 git+https://github.com/openai/CLIP.git\n",
        "\n",
        "%cd /content/FastSAM-hf\n",
        "!python app_gradio.py"
      ]
    }
  ],
  "metadata": {
    "accelerator": "GPU",
    "colab": {
      "gpuType": "T4",
      "provenance": []
    },
    "kernelspec": {
      "display_name": "Python 3",
      "name": "python3"
    },
    "language_info": {
      "name": "python"
    }
  },
  "nbformat": 4,
  "nbformat_minor": 0
}
