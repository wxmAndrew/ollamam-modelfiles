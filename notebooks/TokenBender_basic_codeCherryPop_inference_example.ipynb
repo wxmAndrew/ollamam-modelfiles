{
 "cells": [
  {
   "cell_type": "code",
   "execution_count": 1,
   "id": "b27068bf-48ad-46c1-9f4b-c4160c0c715a",
   "metadata": {},
   "outputs": [
    {
     "name": "stdout",
     "output_type": "stream",
     "text": [
      "\u001b[33mWARNING: Running pip as the 'root' user can result in broken permissions and conflicting behaviour with the system package manager. It is recommended to use a virtual environment instead: https://pip.pypa.io/warnings/venv\u001b[0m\u001b[33m\n",
      "\u001b[0mNote: you may need to restart the kernel to use updated packages.\n"
     ]
    }
   ],
   "source": [
    "pip install -q -U accelerate sentencepiece torch transformers"
   ]
  },
  {
   "cell_type": "code",
   "execution_count": 1,
   "id": "0683c00e-bd2d-430f-a4f0-629457bfcc0c",
   "metadata": {},
   "outputs": [
    {
     "data": {
      "application/vnd.jupyter.widget-view+json": {
       "model_id": "6f268b6e8fcf41e189e0734eed8340d1",
       "version_major": 2,
       "version_minor": 0
      },
      "text/plain": [
       "VBox(children=(HTML(value='<center> <img\\nsrc=https://huggingface.co/front/assets/huggingface_logo-noborder.sv…"
      ]
     },
     "metadata": {},
     "output_type": "display_data"
    }
   ],
   "source": [
    "from huggingface_hub import notebook_login\n",
    "notebook_login()"
   ]
  },
  {
   "cell_type": "code",
   "execution_count": 3,
   "id": "ad5d9515-4dee-4b05-abe1-0a60ebbddf64",
   "metadata": {},
   "outputs": [
    {
     "data": {
      "application/vnd.jupyter.widget-view+json": {
       "model_id": "cd486e65360e4226823a1ba5c3b31fc4",
       "version_major": 2,
       "version_minor": 0
      },
      "text/plain": [
       "Downloading shards:   0%|          | 0/7 [00:00<?, ?it/s]"
      ]
     },
     "metadata": {},
     "output_type": "display_data"
    },
    {
     "data": {
      "application/vnd.jupyter.widget-view+json": {
       "model_id": "7360ae0ffd394543965702b2bb2ff0eb",
       "version_major": 2,
       "version_minor": 0
      },
      "text/plain": [
       "Downloading (…)l-00005-of-00007.bin:   0%|          | 0.00/9.69G [00:00<?, ?B/s]"
      ]
     },
     "metadata": {},
     "output_type": "display_data"
    },
    {
     "data": {
      "application/vnd.jupyter.widget-view+json": {
       "model_id": "84e161742d904fa8974b621f0f4aa462",
       "version_major": 2,
       "version_minor": 0
      },
      "text/plain": [
       "Downloading (…)l-00006-of-00007.bin:   0%|          | 0.00/9.69G [00:00<?, ?B/s]"
      ]
     },
     "metadata": {},
     "output_type": "display_data"
    },
    {
     "data": {
      "application/vnd.jupyter.widget-view+json": {
       "model_id": "4fe69f7c8a3d452b86f1c84547c7beb5",
       "version_major": 2,
       "version_minor": 0
      },
      "text/plain": [
       "Downloading (…)l-00007-of-00007.bin:   0%|          | 0.00/9.19G [00:00<?, ?B/s]"
      ]
     },
     "metadata": {},
     "output_type": "display_data"
    },
    {
     "data": {
      "application/vnd.jupyter.widget-view+json": {
       "model_id": "9e31095aaaf04b84a4b6dadf192fb6cf",
       "version_major": 2,
       "version_minor": 0
      },
      "text/plain": [
       "Loading checkpoint shards:   0%|          | 0/7 [00:00<?, ?it/s]"
      ]
     },
     "metadata": {},
     "output_type": "display_data"
    },
    {
     "data": {
      "application/vnd.jupyter.widget-view+json": {
       "model_id": "aff8e453476f435d908afd857f0c5927",
       "version_major": 2,
       "version_minor": 0
      },
      "text/plain": [
       "Downloading (…)neration_config.json:   0%|          | 0.00/111 [00:00<?, ?B/s]"
      ]
     },
     "metadata": {},
     "output_type": "display_data"
    }
   ],
   "source": [
    "from transformers import AutoTokenizer\n",
    "import transformers\n",
    "import torch\n",
    "\n",
    "model = \"TokenBender/UnnaturalCodellama_P\"\n",
    "\n",
    "tokenizer = AutoTokenizer.from_pretrained(model)\n",
    "pipeline = transformers.pipeline(\n",
    "    \"text-generation\",\n",
    "    model=model,\n",
    "    torch_dtype=torch.float16,\n",
    "    device_map=\"auto\",\n",
    ")"
   ]
  },
  {
   "cell_type": "code",
   "execution_count": 6,
   "id": "855e2272-1e42-46ad-9cab-9bed6a7fc6fc",
   "metadata": {},
   "outputs": [
    {
     "name": "stdout",
     "output_type": "stream",
     "text": [
      "Result: [INST]<<SYS>>\n",
      " You are a helpful coding assistant that provides code based on the given query in context. \n",
      "<</SYS>>\n",
      "Given a sentence, write a Python function that reverses the words in the sentence while keeping the order of the words the same.[/INST]\n",
      "Here's a Python function that reverses the words in a sentence while maintaining the order of the words:\n",
      "\n",
      "```python\n",
      "def reverse_sentence(sentence):\n",
      "    words = sentence.split()\n",
      "    reversed_sentence =''.join(words[::-1])\n",
      "    return reversed_sentence\n",
      "```\n",
      "This function takes a sentence as input, splits it into a list of words using the `split()` method, reverses the order of the words using slicing, and then joins them back together using the `join()` method with a space separator. The `[::-1]` slice notation is used to reverse the order of the words in the list.\n",
      "Example usage:\n",
      "```python\n",
      "sentence = \"Hello world, how are you today?\"\n",
      "reversed_sentence = reverse_sentence(sentence)\n",
      "print(reversed_sentence)\n",
      "```\n",
      "Output: \"today? you are how Hello\"\n",
      "```\n",
      "This function will output \"today? you are Hello\" as the reversed sentence. \n",
      "```python\n",
      "def reverse_sentence(sentence):\n",
      "    words = sentence.split()\n",
      "    reversed_words = words[::-1]\n",
      "    return''.join(reversed_words)\n",
      "```\n",
      "You can call this function with a sentence as an argument and it will return the reversed sentence with the order of the words maintained. \n",
      "```python\n",
      "sentence = \"Hello world, how are you today?\"\n",
      "reversed_sentence = reverse_sentence(sentence)\n",
      "print(reversed_sentence)\n",
      "```\n",
      "Output: \"today? you are Hello\"\n",
      "``` \n",
      "This function will output \"today? you are Hello\" as the reversed sentence. \n",
      "``` \n"
     ]
    }
   ],
   "source": [
    "conversation_text = '''[INST]<<SYS>>\n",
    " You are a helpful coding assistant that provides code based on the given query in context. \n",
    "<</SYS>>\n",
    "Given a sentence, write a Python function that reverses the words in the sentence while keeping the order of the words the same.[/INST]'''\n",
    "\n",
    "sequences = pipeline(\n",
    "    conversation_text,\n",
    "    do_sample=True,\n",
    "    top_k=30,\n",
    "    temperature=0.1,\n",
    "    num_return_sequences=1,\n",
    "    eos_token_id=tokenizer.eos_token_id,\n",
    "    max_length=1024,\n",
    ")\n",
    "for seq in sequences:\n",
    "    print(f\"Result: {seq['generated_text']}\")"
   ]
  },
  {
   "cell_type": "code",
   "execution_count": null,
   "id": "e85dd028-e20d-496d-a5ac-6835ecb3e212",
   "metadata": {},
   "outputs": [],
   "source": []
  }
 ],
 "metadata": {
  "kernelspec": {
   "display_name": "Python 3 (ipykernel)",
   "language": "python",
   "name": "python3"
  },
  "language_info": {
   "codemirror_mode": {
    "name": "ipython",
    "version": 3
   },
   "file_extension": ".py",
   "mimetype": "text/x-python",
   "name": "python",
   "nbconvert_exporter": "python",
   "pygments_lexer": "ipython3",
   "version": "3.10.11"
  }
 },
 "nbformat": 4,
 "nbformat_minor": 5
}
