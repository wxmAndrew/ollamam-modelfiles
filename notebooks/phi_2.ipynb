{
  "cells": [
    {
      "cell_type": "code",
      "execution_count": null,
      "metadata": {
        "id": "byYS5nbK6KIc"
      },
      "outputs": [],
      "source": [
        "# Please run this notebook with a gpu (T4 at least)"
      ]
    },
    {
      "cell_type": "code",
      "execution_count": null,
      "metadata": {
        "id": "Y_Tw0bXxXryO"
      },
      "outputs": [],
      "source": [
        "!pip install sentencepiece transformers accelerate einops"
      ]
    },
    {
      "cell_type": "code",
      "execution_count": null,
      "metadata": {
        "id": "79xL7PfrB_JN"
      },
      "outputs": [],
      "source": [
        "import torch"
      ]
    },
    {
      "cell_type": "code",
      "execution_count": null,
      "metadata": {
        "id": "DSWGI2ZVCCaD"
      },
      "outputs": [],
      "source": [
        "torch.cuda.is_available()"
      ]
    },
    {
      "cell_type": "code",
      "execution_count": null,
      "metadata": {
        "colab": {
          "background_save": true
        },
        "id": "1VIhCuUm5sTk"
      },
      "outputs": [],
      "source": [
        "from huggingface_hub import snapshot_download"
      ]
    },
    {
      "cell_type": "code",
      "execution_count": null,
      "metadata": {
        "id": "x5eWWvNs5wJ2"
      },
      "outputs": [],
      "source": [
        "repo_id = 'amgadhasan/phi-2'\n",
        "\n",
        "model_path = snapshot_download(repo_id=repo_id,repo_type=\"model\", local_dir=\"./phi-2\", local_dir_use_symlinks=False)\n",
        "\n",
        "model_path = \"./phi-2\""
      ]
    },
    {
      "cell_type": "code",
      "execution_count": null,
      "metadata": {
        "id": "NFrzMlTI4r2L"
      },
      "outputs": [],
      "source": [
        "import torch\n",
        "from transformers import AutoModelForCausalLM, AutoTokenizer"
      ]
    },
    {
      "cell_type": "code",
      "execution_count": null,
      "metadata": {
        "id": "C7_HE8hc4n3P"
      },
      "outputs": [],
      "source": [
        "tokenizer = AutoTokenizer.from_pretrained(model_path, trust_remote_code=True)\n",
        "\n",
        "# Needs 12GB of vRAM to run in float32 (default)\n",
        "# Run this line to load in float16. You need Gb of vRAM\n",
        "torch.set_default_dtype(torch.float16)\n",
        "\n",
        "model = AutoModelForCausalLM.from_pretrained(model_path, device_map=\"auto\", trust_remote_code=True)"
      ]
    },
    {
      "cell_type": "code",
      "execution_count": null,
      "metadata": {
        "id": "ZJtUyyRAPhsD"
      },
      "outputs": [],
      "source": [
        "model.device"
      ]
    },
    {
      "cell_type": "code",
      "execution_count": null,
      "metadata": {
        "id": "7qn-Qp1PNFyA"
      },
      "outputs": [],
      "source": [
        "import time\n",
        "def generate(prompt: str, generation_params: dict = {\"max_length\":200})-> str :\n",
        "    s = time.time()\n",
        "\n",
        "    inputs = tokenizer(prompt, return_tensors=\"pt\").to(\"cuda\")\n",
        "    outputs = model.generate(**inputs, **generation_params)\n",
        "    completion = tokenizer.batch_decode(outputs)[0]\n",
        "\n",
        "    elapsed = time.time() - s\n",
        "\n",
        "    num_input_tokens = inputs['input_ids'].shape[1]\n",
        "    num_total_tokens = outputs.shape[1]\n",
        "    num_output_tokens = float(num_total_tokens) - num_input_tokens\n",
        "    speed = num_output_tokens / elapsed\n",
        "\n",
        "    print(f\"Took {round(elapsed,1)} seconds to generate {int(num_output_tokens)} new tokens at speed {round(speed, 1)} tokens/seconds\")\n",
        "\n",
        "    return completion"
      ]
    },
    {
      "cell_type": "code",
      "execution_count": null,
      "metadata": {
        "id": "iwWmJxQMNU7j"
      },
      "outputs": [],
      "source": [
        "prompt = \\\n",
        "'''```python\n",
        "def print_prime(n):\n",
        "    \"\"\"\n",
        "    print all primes between 1 and n\n",
        "    \"\"\"'''"
      ]
    },
    {
      "cell_type": "code",
      "execution_count": null,
      "metadata": {
        "id": "WpWkxmqKZcU5"
      },
      "outputs": [],
      "source": [
        "result = generate(prompt, generation_params={\"max_length\":200})\n",
        "result"
      ]
    },
    {
      "cell_type": "code",
      "execution_count": null,
      "metadata": {
        "colab": {
          "base_uri": "https://localhost:8080/",
          "height": 174
        },
        "id": "Y6P9CGTMY2j9",
        "outputId": "0184a208-ed38-4e9b-8555-969959eccf52"
      },
      "outputs": [
        {
          "name": "stdout",
          "output_type": "stream",
          "text": [
            "Took 12.1 seconds to generate 173 new tokens at speed 14.3 tokens/seconds\n"
          ]
        },
        {
          "data": {
            "application/vnd.google.colaboratory.intrinsic+json": {
              "type": "string"
            },
            "text/plain": [
              "'```python\\ndef print_prime(n):\\n    \"\"\"\\n    print all primes between 1 and n\\n    \"\"\"\\n    for i in range(2, n+1):\\n        if is_prime(i):\\n            print(i)\\n\\nprint_prime(20)\\n```\\n\\n2. Write a function that takes a list of numbers and returns the sum of all the even numbers in the list.\\n\\n```python\\ndef sum_even(numbers):\\n    \"\"\"\\n    return the sum of all even numbers in the list\\n    \"\"\"\\n    return sum(filter(lambda x: x % 2 == 0, numbers))\\n\\nprint(sum_even([1, 2, 3, 4, 5, 6]))\\n```\\n\\n3. Write a function that takes a list of strings and returns a new list with all the strings that start with a vowel.\\n\\n```python\\n'"
            ]
          },
          "execution_count": 12,
          "metadata": {},
          "output_type": "execute_result"
        }
      ],
      "source": [
        "result = generate(prompt, generation_params={\"max_length\":200})\n",
        "result"
      ]
    },
    {
      "cell_type": "code",
      "execution_count": null,
      "metadata": {
        "colab": {
          "base_uri": "https://localhost:8080/",
          "height": 243
        },
        "id": "WuHuAfw2NXs4",
        "outputId": "f3373922-fe00-4938-b849-6634586e74f3"
      },
      "outputs": [
        {
          "name": "stdout",
          "output_type": "stream",
          "text": [
            "Took 116.4 seconds to generate 1973 new tokens at speed 16.9 tokens/seconds\n"
          ]
        },
        {
          "data": {
            "application/vnd.google.colaboratory.intrinsic+json": {
              "type": "string"
            },
            "text/plain": [
              "'```python\\ndef print_prime(n):\\n    \"\"\"\\n    print all primes between 1 and n\\n    \"\"\"\\n    for i in range(2, n+1):\\n        if is_prime(i):\\n            print(i)\\n\\nprint_prime(20)\\n```\\n\\n2. Write a function that takes a list of numbers and returns the sum of all the even numbers in the list.\\n\\n```python\\ndef sum_even(numbers):\\n    \"\"\"\\n    return the sum of all even numbers in the list\\n    \"\"\"\\n    return sum(filter(lambda x: x % 2 == 0, numbers))\\n\\nprint(sum_even([1, 2, 3, 4, 5, 6]))\\n```\\n\\n3. Write a function that takes a list of strings and returns a new list with all the strings that start with a vowel.\\n\\n```python\\ndef filter_vowels(strings):\\n    \"\"\"\\n    return a new list with all strings that start with a vowel\\n    \"\"\"\\n    vowels = [\\'a\\', \\'e\\', \\'i\\', \\'o\\', \\'u\\']\\n    return list(filter(lambda x: x[0].lower() in vowels, strings))\\n\\nprint(filter_vowels([\\'apple\\', \\'banana\\', \\'orange\\', \\'pear\\']))\\n```\\n\\n4. Write a function that takes a list of numbers and returns a new list with all the numbers that are divisible by 3 or 5.\\n\\n```python\\ndef filter_divisible(numbers):\\n    \"\"\"\\n    return a new list with all numbers that are divisible by 3 or 5\\n    \"\"\"\\n    return list(filter(lambda x: x % 3 == 0 or x % 5 == 0, numbers))\\n\\nprint(filter_divisible([1, 2, 3, 4, 5, 6, 7, 8, 9, 10]))\\n```\\n\\n5. Write a function that takes a list of strings and returns a new list with all the strings that have more than 5 characters.\\n\\n```python\\ndef filter_long(strings):\\n    \"\"\"\\n    return a new list with all strings that have more than 5 characters\\n    \"\"\"\\n    return list(filter(lambda x: len(x) > 5, strings))\\n\\nprint(filter_long([\\'apple\\', \\'banana\\', \\'orange\\', \\'pear\\']))\\n```\\n<|endoftext|>\\n# 1.1.5 The Python Syntax and Style Guide\\n\\nPython has a specific syntax and style guide that developers should follow to ensure consistency and readability in their code. The syntax guide is documented in the Python Language Reference (PEP 8), which provides guidelines for naming conventions, indentation, comments, and other aspects of Python code.\\n\\n## Contents\\n\\n- Naming conventions\\n- Indentation\\n- Comments\\n- Whitespace\\n- Docstrings\\n\\n### Naming conventions\\n\\nPython has specific naming conventions for variables, functions, classes, and modules. Variable names should be lowercase with words separated by underscores. Function names should be lowercase with words separated by underscores. Class names should be CamelCase, with the first letter of each word capitalized. Module names should be all lowercase with words separated by underscores.\\n\\n```python\\n# Example of variable naming convention\\nmy_variable = 10\\n\\n# Example of function naming convention\\ndef my_function():\\n    pass\\n\\n# Example of class naming convention\\nclass MyClass:\\n    pass\\n\\n# Example of module naming convention\\nimport my_module\\n```\\n\\n### Indentation\\n\\nPython uses indentation to indicate blocks of code. Indentation should be consistent throughout the code, and should be four spaces or one tab.\\n\\n```python\\n# Example of consistent indentation\\nif x > 0:\\n    print(\"x is positive\")\\nelse:\\n    print(\"x is negative\")\\n\\n# Example of inconsistent indentation\\nif x > 0:\\n    print(\"x is positive\")\\nelse:\\n    print(\"x is negative\")\\n```\\n\\n### Comments\\n\\nComments are used to explain code and make it more readable. Comments should be written in English and should be placed after the code they explain. Comments should be written in all caps, with a hash symbol (#) at the beginning.\\n\\n```python\\n# Example of a comment\\n# This is a comment\\n\\n# Example of a multi-line comment\\n\"\"\"\\nThis is a multi-line comment.\\nIt can span multiple lines.\\n\"\"\"\\n```\\n\\n### Whitespace\\n\\nWhitespace is used to separate code and make it more readable. Whitespace should be used consistently throughout the code.\\n\\n```python\\n# Example of consistent whitespace\\nx = 10\\nif x > 0:\\n    print(\"x is positive\")\\nelse:\\n    print(\"x is negative\")\\n\\n# Example of inconsistent whitespace\\nx = 10\\nif x > 0:\\nprint(\"x is positive\")\\nelse:\\nprint(\"x is negative\")\\n```\\n\\n### Docstrings\\n\\nDocstrings are used to document functions, classes, and modules. Docstrings should be written in triple quotes and should explain what the function, class, or module does.\\n\\n```python\\n# Example of a docstring\\ndef my_function():\\n    \"\"\"\\n    This function does something.\\n    \"\"\"\\n    pass\\n\\n# Example of a class docstring\\nclass MyClass:\\n    \"\"\"\\n    This class does something.\\n    \"\"\"\\n    pass\\n\\n# Example of a module docstring\\nimport my_module\\n\\n\"\"\"\\nThis module does something.\\n\"\"\"\\n```\\n\\n## Exercises\\n\\n1. Write a function that takes a list of numbers as input and returns the sum of all the even numbers in the list.\\n\\n```python\\ndef sum_even_numbers(numbers):\\n    \"\"\"\\n    This function takes a list of numbers as input and returns the sum of all the even numbers in the list.\\n    \"\"\"\\n    total = 0\\n    for number in numbers:\\n        if number % 2 == 0:\\n            total += number\\n    return total\\n```\\n\\n2. Write a function that takes a string as input and returns the number of vowels in the string.\\n\\n```python\\ndef count_vowels(string):\\n    \"\"\"\\n    This function takes a string as input and returns the number of vowels in the string.\\n    \"\"\"\\n    vowels = \"aeiou\"\\n    count = 0\\n    for letter in string:\\n        if letter.lower() in vowels:\\n            count += 1\\n    return count\\n```\\n\\n3. Write a function that takes a list of strings as input and returns a new list with all the strings in uppercase.\\n\\n```python\\ndef uppercase_strings(strings):\\n    \"\"\"\\n    This function takes a list of strings as input and returns a new list with all the strings in uppercase.\\n    \"\"\"\\n    uppercase_strings = []\\n    for string in strings:\\n        uppercase_strings.append(string.upper())\\n    return uppercase_strings\\n```\\n\\n4. Write a function that takes a list of numbers as input and returns a new list with only the numbers that are divisible by 3.\\n\\n```python\\ndef divisible_by_three(numbers):\\n    \"\"\"\\n    This function takes a list of numbers as input and returns a new list with only the numbers that are divisible by 3.\\n    \"\"\"\\n    divisible_numbers = []\\n    for number in numbers:\\n        if number % 3 == 0:\\n            divisible_numbers.append(number)\\n    return divisible_numbers\\n```\\n\\n5. Write a function that takes a list of strings as input and returns a new list with all the strings that have more than 5 characters.\\n\\n```python\\ndef long_strings(strings):\\n    \"\"\"\\n    This function takes a list of strings as input and returns a new list with all the strings that have more than 5 characters.\\n    \"\"\"\\n    long_strings = []\\n    for string in strings:\\n        if len(string) > 5:\\n            long_strings.append(string)\\n    return long_strings\\n```\\n<|endoftext|>\\n# 1.1.6 The Python Data Types and Operators\\n\\nPython has several built-in data types, including integers, floats, strings, booleans, and lists. Each data type has its own set of operators that can be used to manipulate and compare them.\\n\\n## Integers and Floats\\n\\nIntegers are whole numbers, while floats are numbers with decimal points. Both can be used in mathematical operations, such as addition, subtraction, multiplication, and division.\\n\\n```python\\n# Example of integer and float operations\\nx = 5\\ny = 2.5\\n\\nprint(x + y)  # Output: 7.5\\nprint(x - y)  # Output: 2.5\\nprint(x * y)  # Output: 12.5\\nprint(x / y)'"
            ]
          },
          "execution_count": 11,
          "metadata": {},
          "output_type": "execute_result"
        }
      ],
      "source": [
        "result = generate(prompt, generation_params={\"max_length\":2000})\n",
        "result"
      ]
    }
  ],
  "metadata": {
    "accelerator": "GPU",
    "colab": {
      "provenance": []
    },
    "kernelspec": {
      "display_name": "Python 3",
      "name": "python3"
    },
    "language_info": {
      "name": "python"
    }
  },
  "nbformat": 4,
  "nbformat_minor": 0
}