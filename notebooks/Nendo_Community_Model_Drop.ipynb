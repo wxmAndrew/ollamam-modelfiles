{
  "nbformat": 4,
  "nbformat_minor": 0,
  "metadata": {
    "colab": {
      "provenance": [],
      "gpuType": "T4"
    },
    "kernelspec": {
      "name": "python3",
      "display_name": "Python 3"
    },
    "language_info": {
      "name": "python"
    },
    "accelerator": "GPU"
  },
  "cells": [
    {
      "cell_type": "code",
      "execution_count": null,
      "metadata": {
        "id": "m_Aeah5zPFSj",
        "cellView": "form"
      },
      "outputs": [],
      "source": [
        "#@title Choose a GPU runtime\n",
        "#@markdown go to `Runtime > Change runtime type`\n",
        "\n",
        "#@markdown You can check the current GPU by running this cell:\n",
        "!nvidia-smi"
      ]
    },
    {
      "cell_type": "code",
      "execution_count": null,
      "metadata": {
        "id": "vEQq5JIA5uUy",
        "cellView": "form"
      },
      "outputs": [],
      "source": [
        "#@title Setup\n",
        "#@markdown The following cell sets up all dependencies and instantiates `nendo`.\n",
        "%%capture\n",
        "import locale\n",
        "locale.getpreferredencoding = lambda: \"UTF-8\"\n",
        "\n",
        "!apt-get install -qq ffmpeg libsndfile1 libportaudio2 libmpg123-dev\n",
        "!pip uninstall --quiet -y lida llmx tensorflow-probability\n",
        "!pip install --quiet git+https://github.com/okio-ai/audiocraft nendo git+https://github.com/okio-ai/nendo_plugin_musicgen\n",
        "\n",
        "from nendo import Nendo, NendoConfig\n",
        "from IPython.display import Audio\n",
        "\n",
        "nd = Nendo(config=NendoConfig(plugins=[\"nendo_plugin_musicgen\"]))"
      ]
    },
    {
      "cell_type": "code",
      "source": [
        "#@title Choose a community finetune model and start generating 🔥\n",
        "\n",
        "hugging_face_model = \"pharoAIsanders420/musicgen-medium-boombap\" #@param [\"pharoAIsanders420/musicgen-medium-boombap\", \"pharoAIsanders420/musicgen-stereo-dub\", \"pharoAIsanders420/musicgen-small-dnb\"]\n",
        "prompt = \"piano, lofi\" #@param {\"type\": \"string\"}\n",
        "duration = 30 #@param {\"type\": \"number\"}\n",
        "bpm = \"\" #@param {\"type\": \"string\"}\n",
        "key = \"\" #@param [\"\", \"C\", \"C#\", \"D\", \"D#\", \"E\", \"F\", \"F#\", \"G\", \"G#\", \"A\", \"A#\", \"B\"]\n",
        "scale = \"\" #@param [\"\", \"major\", \"minor\"]\n",
        "temperature = 1.0 #@param {\"type\": \"number\"}\n",
        "cfg_coef = 3.5 #@param {\"type\": \"number\"}\n",
        "\n",
        "if bpm == \"\":\n",
        "  generations = nd.plugins.musicgen(\n",
        "      n_samples=1,\n",
        "      prompt=prompt,\n",
        "      key=key,\n",
        "      scale=scale,\n",
        "      duration=duration,\n",
        "      temperature=temperature,\n",
        "      cfg_coef=cfg_coef,\n",
        "      model=hugging_face_model\n",
        "  )\n",
        "else:\n",
        "  generations = nd.plugins.musicgen(\n",
        "      n_samples=1,\n",
        "      prompt=prompt,\n",
        "      bpm=int(bpm),\n",
        "      key=key,\n",
        "      scale=scale,\n",
        "      duration=duration,\n",
        "      temperature=temperature,\n",
        "      cfg_coef=cfg_coef,\n",
        "      model=hugging_face_model\n",
        "  )\n",
        "\n",
        "Audio(generations[0].resource.src)"
      ],
      "metadata": {
        "id": "5dcJ7S-paX8R",
        "cellView": "form"
      },
      "execution_count": null,
      "outputs": []
    },
    {
      "cell_type": "markdown",
      "source": [
        "## Prompting Ideas\n",
        "### Model specific\n",
        "Models have a system prompt that identifies the finetuned style during training. Try the following:\n",
        "\n",
        "- `pharoAIsanders420/musicgen-medium-boombap:` `\"genre: hiphop\"`\n",
        "- `pharoAIsanders420/musicgen-stereo-dub:` `\"genre: dub\"`\n",
        "- `pharoAIsanders420/musicgen-small-dnb:` `\"genre: dnb\"`\n",
        "\n",
        "### Prompt examples\n",
        "BOOMBAP:\n",
        "```\n",
        "\"genre: hiphop\", 4/4 320kbps 48khz. \"Retro Vibes\" with a nostalgic and old-school boombap melody that is reminiscent of the golden era of hip-hop. A jazzy and soulful chord progression. laid-back and chilled-out mood. boom-bap drum patterns, catchy hooks, and smooth flows.\"\n",
        "```\n",
        "\n",
        "DUB:\n",
        "```\n",
        "\"genre: dub\", 4/4 320kbps 48khz, Dub reggae track with a groovy bass line, bouncy percussion, electric guitars, a organ melody, horns, steady drums, punchy snare, and shimmering hi-hats. Laid back, groovy, bouncy, passionate and hypnotic.\"\n",
        "```\n",
        "\n",
        "DNB:\n",
        "```\n",
        "\"genre: dnb\", 4/4 320kbps 48khz, Drum & bass song with a groovy dubstep synth bass line, punchy kick and snare hits, shimmering hi hats, synth pad and repetitive synth lead melody. It sounds energetic and exciting, like something you would hear in underground clubs.\"\n",
        "```\n",
        "\n",
        "### Prompt crafting guide\n",
        "To craft effective prompts, one strategy is to use \"LP-MusicCaps\" (https://huggingface.co/spaces/seungheondoh/LP-Music-Caps-demo) to describe any song as text and then ask a LLM: \"Take the following text, summarize it and then transform it into a descriptive prompts for a text to music AI: [your LP-Music-Caps generated text]\""
      ],
      "metadata": {
        "id": "A8HXRsb_xzke"
      }
    },
    {
      "cell_type": "code",
      "source": [
        "#@title Or run this cell to upload one of your own tracks for outpainting! 🎶\n",
        "from google.colab import files\n",
        "uploaded = files.upload()\n",
        "file_path = list(uploaded)[0]\n",
        "track = nd.library.add_track(file_path=file_path)\n"
      ],
      "metadata": {
        "id": "zXcMWS-uyXTX",
        "cellView": "form"
      },
      "execution_count": null,
      "outputs": []
    },
    {
      "cell_type": "code",
      "source": [
        "#@title Run the outpainting 🔥\n",
        "\n",
        "hugging_face_model = \"pharoAIsanders420/musicgen-medium-boombap\" #@param [\"pharoAIsanders420/musicgen-medium-boombap\", \"pharoAIsanders420/musicgen-stereo-dub\", \"pharoAIsanders420/musicgen-small-dnb\"]\n",
        "prompt = \"piano, lofi\" #@param {\"type\": \"string\"}\n",
        "duration = 30 #@param {\"type\": \"number\"}\n",
        "bpm = \"\" #@param {\"type\": \"string\"}\n",
        "key = \"\" #@param [\"\", \"C\", \"C#\", \"D\", \"D#\", \"E\", \"F\", \"F#\", \"G\", \"G#\", \"A\", \"A#\", \"B\"]\n",
        "scale = \"\" #@param [\"\", \"major\", \"minor\"]\n",
        "temperature = 1.0 #@param {\"type\": \"number\"}\n",
        "cfg_coef = 3.5 #@param {\"type\": \"number\"}\n",
        "conditioning_length = 2 #@param {\"type\": \"number\"}\n",
        "\n",
        "if bpm == \"\":\n",
        "  generations = nd.plugins.musicgen(\n",
        "      track=track,\n",
        "      n_samples=1,\n",
        "      prompt=prompt,\n",
        "      key=key,\n",
        "      scale=scale,\n",
        "      duration=duration,\n",
        "      temperature=temperature,\n",
        "      cfg_coef=cfg_coef,\n",
        "      model=hugging_face_model\n",
        "  )\n",
        "else:\n",
        "  generations = nd.plugins.musicgen(\n",
        "      track=track,\n",
        "      n_samples=1,\n",
        "      prompt=prompt,\n",
        "      bpm=int(bpm),\n",
        "      key=key,\n",
        "      scale=scale,\n",
        "      duration=duration,\n",
        "      temperature=temperature,\n",
        "      cfg_coef=cfg_coef,\n",
        "      model=hugging_face_model\n",
        "  )\n",
        "\n",
        "Audio(generations[0].resource.src)"
      ],
      "metadata": {
        "cellView": "form",
        "id": "dbxP-qJF6mBO"
      },
      "execution_count": null,
      "outputs": []
    },
    {
      "cell_type": "code",
      "source": [
        "#@title Download the generated track\n",
        "from google.colab import files\n",
        "import os.path\n",
        "\n",
        "files.download(generations[0].resource.src)"
      ],
      "metadata": {
        "id": "2xT4DWNNO8EE",
        "colab": {
          "base_uri": "https://localhost:8080/",
          "height": 17
        },
        "outputId": "13112c87-6384-413e-d6f2-d997c56bed2f",
        "cellView": "form"
      },
      "execution_count": null,
      "outputs": [
        {
          "output_type": "display_data",
          "data": {
            "text/plain": [
              "<IPython.core.display.Javascript object>"
            ],
            "application/javascript": [
              "\n",
              "    async function download(id, filename, size) {\n",
              "      if (!google.colab.kernel.accessAllowed) {\n",
              "        return;\n",
              "      }\n",
              "      const div = document.createElement('div');\n",
              "      const label = document.createElement('label');\n",
              "      label.textContent = `Downloading \"${filename}\": `;\n",
              "      div.appendChild(label);\n",
              "      const progress = document.createElement('progress');\n",
              "      progress.max = size;\n",
              "      div.appendChild(progress);\n",
              "      document.body.appendChild(div);\n",
              "\n",
              "      const buffers = [];\n",
              "      let downloaded = 0;\n",
              "\n",
              "      const channel = await google.colab.kernel.comms.open(id);\n",
              "      // Send a message to notify the kernel that we're ready.\n",
              "      channel.send({})\n",
              "\n",
              "      for await (const message of channel.messages) {\n",
              "        // Send a message to notify the kernel that we're ready.\n",
              "        channel.send({})\n",
              "        if (message.buffers) {\n",
              "          for (const buffer of message.buffers) {\n",
              "            buffers.push(buffer);\n",
              "            downloaded += buffer.byteLength;\n",
              "            progress.value = downloaded;\n",
              "          }\n",
              "        }\n",
              "      }\n",
              "      const blob = new Blob(buffers, {type: 'application/binary'});\n",
              "      const a = document.createElement('a');\n",
              "      a.href = window.URL.createObjectURL(blob);\n",
              "      a.download = filename;\n",
              "      div.appendChild(a);\n",
              "      a.click();\n",
              "      div.remove();\n",
              "    }\n",
              "  "
            ]
          },
          "metadata": {}
        },
        {
          "output_type": "display_data",
          "data": {
            "text/plain": [
              "<IPython.core.display.Javascript object>"
            ],
            "application/javascript": [
              "download(\"download_0d7c83af-2e22-4875-8929-0121132182ee\", \"output.mp4\", 16146795)"
            ]
          },
          "metadata": {}
        }
      ]
    }
  ]
}