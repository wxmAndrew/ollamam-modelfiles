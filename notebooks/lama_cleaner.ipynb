{
  "nbformat": 4,
  "nbformat_minor": 0,
  "metadata": {
    "colab": {
      "provenance": []
    },
    "kernelspec": {
      "name": "python3",
      "display_name": "Python 3"
    },
    "language_info": {
      "name": "python"
    },
    "accelerator": "GPU"
  },
  "cells": [
    {
      "cell_type": "code",
      "execution_count": null,
      "metadata": {
        "id": "lk9wAWLScQ1R"
      },
      "outputs": [],
      "source": [
        "#@title 1. Install package\n",
        "#@markdown # 1. Install package\n",
        "#@markdown Github Project: https://github.com/Sanster/lama-cleaner\n",
        "\n",
        "!pip3 install lama-cleaner pyngrok"
      ]
    },
    {
      "cell_type": "code",
      "source": [
        "#@title 2. Download model\n",
        "#@markdown # 2. Downloading model\n",
        "init_model = 'lama' #@param ['lama', 'sd1.5', 'paint_by_example']\n",
        "port = 4242\n",
        "\n",
        "#@markdown # !! Important Notes !!\n",
        "#@markdown Please stop this block after model download finish (seeing `running on http://0.0.0.0:4242/` in the log)\n",
        "\n",
        "!lama-cleaner --host 0.0.0.0 --port $port --model $init_model"
      ],
      "metadata": {
        "id": "nF5-ak8F4Iem"
      },
      "execution_count": null,
      "outputs": []
    },
    {
      "cell_type": "code",
      "source": [
        "#@title 3. Setup ngrok\n",
        "\n",
        "#@markdown # 3. Setup ngrok\n",
        "#@markdown Get a free [ngrok](https://ngrok.com/) account and copy your authtoken [here](https://dashboard.ngrok.com/get-started/your-authtoken).\n",
        "ngrok_authtoken = 'Paste ngrok token here' #@param {type: 'string'}\n",
        "\n",
        "!ngrok authtoken $ngrok_authtoken\n",
        "\n",
        "from pyngrok import ngrok\n",
        "public_url = ngrok.connect(port).public_url\n",
        "print(f\"ngrok public url: {public_url}.\")"
      ],
      "metadata": {
        "id": "qKe0DDAUgGBw"
      },
      "execution_count": null,
      "outputs": []
    },
    {
      "cell_type": "code",
      "source": [
        "#@title 4. Start Lama Cleaner server\n",
        "#@markdown # 4. Start Lama Cleaner server\n",
        "#@markdown When you see `Running on http://0.0.0.0:4242/' in the log`, please open **ngrok public link**\n",
        "\n",
        "\n",
        "!lama-cleaner --host 0.0.0.0 --port $port --model $init_model"
      ],
      "metadata": {
        "id": "AlZ4devxcxCS"
      },
      "execution_count": null,
      "outputs": []
    }
  ]
}