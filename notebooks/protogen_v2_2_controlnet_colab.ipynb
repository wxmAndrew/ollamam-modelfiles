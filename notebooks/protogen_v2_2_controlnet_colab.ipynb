{
  "cells": [
    {
      "cell_type": "markdown",
      "metadata": {
        "id": "view-in-github"
      },
      "source": [
        "[![Open In Colab](https://colab.research.google.com/assets/colab-badge.svg)](https://colab.research.google.com/github/camenduru/controlnet-colab/blob/main/protogen_v2_2_controlnet_colab.ipynb)"
      ]
    },
    {
      "cell_type": "code",
      "execution_count": null,
      "metadata": {
        "id": "Z0Uf4z6JUD4r"
      },
      "outputs": [],
      "source": [
        "!pip install -q torch==1.13.1+cu116 torchvision==0.14.1+cu116 torchaudio==0.13.1 torchtext==0.14.1 torchdata==0.5.1 --extra-index-url https://download.pytorch.org/whl/cu116 -U\n",
        "%cd /content\n",
        "!git clone --recurse-submodules https://github.com/camenduru/ControlNet-with-other-models\n",
        "!sudo apt-get install aria2\n",
        "!pip install gradio -r /content/ControlNet-with-other-models/requirements.txt\n",
        "\n",
        "!sed -i -e 's/launch()/launch(share=True)/g' /content/ControlNet-with-other-models/app.py\n",
        "!sed -i -e 's|\\.\\/annotator\\/ckpts\\/network-bsds500\\.pth|\\/content\\/ControlNet-with-other-models\\/ControlNet\\/annotator\\/ckpts\\/network-bsds500.pth|g' /content/ControlNet-with-other-models/ControlNet/annotator/hed/__init__.py\n",
        "!sed -i -e 's|annotator\\/ckpts\\/dpt_large-midas-2f21e586\\.pt|\\/content\\/ControlNet-with-other-models\\/ControlNet\\/annotator\\/ckpts\\/dpt_large-midas-2f21e586.pt|g' /content/ControlNet-with-other-models/ControlNet/annotator/midas/api.py\n",
        "!sed -i -e 's|annotator\\/ckpts\\/dpt_hybrid-midas-501f0c75\\.pt|\\/content\\/ControlNet-with-other-models\\/ControlNet\\/annotator\\/ckpts\\/dpt_hybrid-midas-501f0c75.pt|g' /content/ControlNet-with-other-models/ControlNet/annotator/midas/api.py\n",
        "!sed -i -e 's|\\.\\/annotator\\/ckpts/mlsd_large_512_fp32.pth|\\/content\\/ControlNet-with-other-models\\/ControlNet\\/annotator\\/ckpts\\/mlsd_large_512_fp32.pth|g' /content/ControlNet-with-other-models/ControlNet/annotator/mlsd/__init__.py\n",
        "!sed -i -e 's|\\.\\/annotator\\/ckpts\\/body_pose_model\\.pth|\\/content\\/ControlNet-with-other-models\\/ControlNet\\/annotator\\/ckpts/body_pose_model.pth|g' /content/ControlNet-with-other-models/ControlNet/annotator/openpose/__init__.py\n",
        "!sed -i -e 's|\\.\\/annotator\\/ckpts\\/hand_pose_model\\.pth|\\/content\\/ControlNet-with-other-models\\/ControlNet\\/annotator\\/ckpts/hand_pose_model.pth|g' /content/ControlNet-with-other-models/ControlNet/annotator/openpose/__init__.py\n",
        "!sed -i -e 's|annotator\\/ckpts\\/upernet_global_small.pth|\\/content\\/ControlNet-with-other-models\\/ControlNet\\/annotator\\/ckpts\\/upernet_global_small.pth|g' /content/ControlNet-with-other-models/ControlNet/annotator/uniformer/__init__.py\n",
        "!sed -i -e 's|annotator\\/uniformer\\/exp\\/upernet_global_small\\/config\\.py|\\/content\\/ControlNet-with-other-models\\/ControlNet\\/annotator\\/uniformer\\/exp\\/upernet_global_small\\/config.py|g' /content/ControlNet-with-other-models/ControlNet/annotator/uniformer/__init__.py\n",
        "\n",
        "!sed -i -e 's|DEFAULT_BASE_MODEL_REPO_PLACEHOLDER|ckpt\\/Protogen_V2.2|g' /content/ControlNet-with-other-models/model.py \n",
        "!sed -i -e 's|DEFAULT_BASE_MODEL_FILENAME_PLACEHOLDER|Protogen_V2.2.ckpt|g' /content/ControlNet-with-other-models/model.py \n",
        "!sed -i -e 's|DEFAULT_BASE_MODEL_URL_PLACEHOLDER|https:\\/\\/huggingface.co\\/ckpt\\/Protogen_V2.2\\/resolve\\/main\\/Protogen_V2.2.ckpt|g' /content/ControlNet-with-other-models/model.py\n",
        "\n",
        "%cd /content/ControlNet-with-other-models\n",
        "!python /content/ControlNet-with-other-models/app.py"
      ]
    }
  ],
  "metadata": {
    "accelerator": "GPU",
    "colab": {
      "provenance": []
    },
    "gpuClass": "standard",
    "kernelspec": {
      "display_name": "Python 3",
      "name": "python3"
    },
    "language_info": {
      "name": "python"
    }
  },
  "nbformat": 4,
  "nbformat_minor": 0
}
