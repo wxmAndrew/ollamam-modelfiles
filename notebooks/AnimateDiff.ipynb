{
  "nbformat": 4,
  "nbformat_minor": 0,
  "metadata": {
    "colab": {
      "provenance": [],
      "gpuType": "T4"
    },
    "kernelspec": {
      "name": "python3",
      "display_name": "Python 3"
    },
    "language_info": {
      "name": "python"
    },
    "accelerator": "GPU"
  },
  "cells": [
    {
      "cell_type": "code",
      "execution_count": null,
      "metadata": {
        "id": "jM3deh5s8axs"
      },
      "outputs": [],
      "source": [
        "!git clone https://github.com/guoyww/AnimateDiff\n",
        "!pip install -q torch==2.0.1+cu118 torchvision==0.15.2+cu118 torchaudio==2.0.2+cu118 torchtext==0.15.2 torchdata==0.6.1 --extra-index-url https://download.pytorch.org/whl/cu118 -U\n",
        "!pip install einops omegaconf safetensors diffusers[torch]==0.11.1 transformers xformers==0.0.20 triton==2.0.0\n",
        "!rm -rf /content/AnimateDiff/models/StableDiffusion\n",
        "!git clone -b fp16 https://huggingface.co/runwayml/stable-diffusion-v1-5 /content/AnimateDiff/models/StableDiffusion/\n",
        "%cd AnimateDiff"
      ]
    },
    {
      "cell_type": "code",
      "source": [
        "%cd AnimateDiff"
      ],
      "metadata": {
        "colab": {
          "base_uri": "https://localhost:8080/"
        },
        "id": "gb6XVRGD_Jwg",
        "outputId": "78e8bc06-55bf-42d0-b3f3-c06031d41abe"
      },
      "execution_count": null,
      "outputs": [
        {
          "output_type": "stream",
          "name": "stdout",
          "text": [
            "/content/AnimateDiff\n"
          ]
        }
      ]
    },
    {
      "cell_type": "code",
      "source": [
        "!wget -P /content/AnimateDiff/models/Motion_Module https://huggingface.co/camenduru/AnimateDiff/resolve/main/mm_sd_v15_v2.ckpt\n"
      ],
      "metadata": {
        "colab": {
          "base_uri": "https://localhost:8080/"
        },
        "id": "87f_OdxX8hTm",
        "outputId": "65655a5b-8126-4d5e-a1d1-7ca4bc4ba4f4"
      },
      "execution_count": null,
      "outputs": [
        {
          "output_type": "stream",
          "name": "stdout",
          "text": [
            "--2023-12-04 13:15:03--  https://huggingface.co/camenduru/AnimateDiff/resolve/main/mm_sd_v15_v2.ckpt\n",
            "Resolving huggingface.co (huggingface.co)... 18.164.174.17, 18.164.174.118, 18.164.174.23, ...\n",
            "Connecting to huggingface.co (huggingface.co)|18.164.174.17|:443... connected.\n",
            "HTTP request sent, awaiting response... 302 Found\n",
            "Location: https://cdn-lfs.huggingface.co/repos/91/f8/91f8ac1397bf6d5084e00d57bf70d8e7e4fe6518c6ac2b58a0c211cce4d77335/69ed0f5fef82b110aca51bcab73b21104242bc65d6ab4b8b2a2a94d31cad1bf0?response-content-disposition=attachment%3B+filename*%3DUTF-8%27%27mm_sd_v15_v2.ckpt%3B+filename%3D%22mm_sd_v15_v2.ckpt%22%3B&Expires=1701954903&Policy=eyJTdGF0ZW1lbnQiOlt7IkNvbmRpdGlvbiI6eyJEYXRlTGVzc1RoYW4iOnsiQVdTOkVwb2NoVGltZSI6MTcwMTk1NDkwM319LCJSZXNvdXJjZSI6Imh0dHBzOi8vY2RuLWxmcy5odWdnaW5nZmFjZS5jby9yZXBvcy85MS9mOC85MWY4YWMxMzk3YmY2ZDUwODRlMDBkNTdiZjcwZDhlN2U0ZmU2NTE4YzZhYzJiNThhMGMyMTFjY2U0ZDc3MzM1LzY5ZWQwZjVmZWY4MmIxMTBhY2E1MWJjYWI3M2IyMTEwNDI0MmJjNjVkNmFiNGI4YjJhMmE5NGQzMWNhZDFiZjA%7EcmVzcG9uc2UtY29udGVudC1kaXNwb3NpdGlvbj0qIn1dfQ__&Signature=ZAVJeQRoytP8HkUTgbwj%7EyaXftbad-XMZCc9JEwkqL6HdLfY3Y4DayN-0s36jGC9640lBdnf8SgUz7QIUe683dLs-JP3tfxVIDq8YjoER5fSVLWOH3pe9M52eitDBzmBXXHt4bv%7EIB07-a4u-j3Guhj9ISEOC3X-RD-Q67ruDLh1q9BCwx9NIB7ObJ-htz1QipoDT3bcepLBt47-Tp7LjsJt1PZJ%7E3s63l4mrBwvfIl%7E5U4XUpQuFbtG6upCpfigYTMstWqor9h3OXoDrg1jedTqCTOiES-lu9-FzhkCJiRELsZza08WscBn6c3EOAdFBkvv2jNAF2dfFp6JceAo6A__&Key-Pair-Id=KVTP0A1DKRTAX [following]\n",
            "--2023-12-04 13:15:03--  https://cdn-lfs.huggingface.co/repos/91/f8/91f8ac1397bf6d5084e00d57bf70d8e7e4fe6518c6ac2b58a0c211cce4d77335/69ed0f5fef82b110aca51bcab73b21104242bc65d6ab4b8b2a2a94d31cad1bf0?response-content-disposition=attachment%3B+filename*%3DUTF-8%27%27mm_sd_v15_v2.ckpt%3B+filename%3D%22mm_sd_v15_v2.ckpt%22%3B&Expires=1701954903&Policy=eyJTdGF0ZW1lbnQiOlt7IkNvbmRpdGlvbiI6eyJEYXRlTGVzc1RoYW4iOnsiQVdTOkVwb2NoVGltZSI6MTcwMTk1NDkwM319LCJSZXNvdXJjZSI6Imh0dHBzOi8vY2RuLWxmcy5odWdnaW5nZmFjZS5jby9yZXBvcy85MS9mOC85MWY4YWMxMzk3YmY2ZDUwODRlMDBkNTdiZjcwZDhlN2U0ZmU2NTE4YzZhYzJiNThhMGMyMTFjY2U0ZDc3MzM1LzY5ZWQwZjVmZWY4MmIxMTBhY2E1MWJjYWI3M2IyMTEwNDI0MmJjNjVkNmFiNGI4YjJhMmE5NGQzMWNhZDFiZjA%7EcmVzcG9uc2UtY29udGVudC1kaXNwb3NpdGlvbj0qIn1dfQ__&Signature=ZAVJeQRoytP8HkUTgbwj%7EyaXftbad-XMZCc9JEwkqL6HdLfY3Y4DayN-0s36jGC9640lBdnf8SgUz7QIUe683dLs-JP3tfxVIDq8YjoER5fSVLWOH3pe9M52eitDBzmBXXHt4bv%7EIB07-a4u-j3Guhj9ISEOC3X-RD-Q67ruDLh1q9BCwx9NIB7ObJ-htz1QipoDT3bcepLBt47-Tp7LjsJt1PZJ%7E3s63l4mrBwvfIl%7E5U4XUpQuFbtG6upCpfigYTMstWqor9h3OXoDrg1jedTqCTOiES-lu9-FzhkCJiRELsZza08WscBn6c3EOAdFBkvv2jNAF2dfFp6JceAo6A__&Key-Pair-Id=KVTP0A1DKRTAX\n",
            "Resolving cdn-lfs.huggingface.co (cdn-lfs.huggingface.co)... 18.65.25.40, 18.65.25.122, 18.65.25.124, ...\n",
            "Connecting to cdn-lfs.huggingface.co (cdn-lfs.huggingface.co)|18.65.25.40|:443... connected.\n",
            "HTTP request sent, awaiting response... 200 OK\n",
            "Length: 1817888431 (1.7G) [binary/octet-stream]\n",
            "Saving to: ‘/content/AnimateDiff/models/Motion_Module/mm_sd_v15_v2.ckpt’\n",
            "\n",
            "mm_sd_v15_v2.ckpt   100%[===================>]   1.69G   107MB/s    in 15s     \n",
            "\n",
            "2023-12-04 13:15:20 (113 MB/s) - ‘/content/AnimateDiff/models/Motion_Module/mm_sd_v15_v2.ckpt’ saved [1817888431/1817888431]\n",
            "\n"
          ]
        }
      ]
    },
    {
      "cell_type": "code",
      "source": [
        "!wget -P /content/AnimateDiff/models/DreamBooth_LoRA https://huggingface.co/gsdf/Counterfeit-V3.0/resolve/main/Counterfeit-V3.0_fix_fp16.safetensors\n",
        "\n"
      ],
      "metadata": {
        "colab": {
          "base_uri": "https://localhost:8080/"
        },
        "id": "x-8T4y5I98ek",
        "outputId": "2bf94bac-1071-42ec-83ab-fc8efa46f746"
      },
      "execution_count": null,
      "outputs": [
        {
          "output_type": "stream",
          "name": "stdout",
          "text": [
            "--2023-12-04 13:15:20--  https://huggingface.co/gsdf/Counterfeit-V3.0/resolve/main/Counterfeit-V3.0_fix_fp16.safetensors\n",
            "Resolving huggingface.co (huggingface.co)... 18.164.174.55, 18.164.174.17, 18.164.174.23, ...\n",
            "Connecting to huggingface.co (huggingface.co)|18.164.174.55|:443... connected.\n",
            "HTTP request sent, awaiting response... 302 Found\n",
            "Location: https://cdn-lfs.huggingface.co/repos/cd/a1/cda186b5f62d61606b3595cd6660dfac2f529c6763be4f402dc61818e353d1d7/a54c944e4c04e9d9ca43468ef5b90ea0408bb6264829a4980de79a768df7179f?response-content-disposition=attachment%3B+filename*%3DUTF-8%27%27Counterfeit-V3.0_fix_fp16.safetensors%3B+filename%3D%22Counterfeit-V3.0_fix_fp16.safetensors%22%3B&Expires=1701954920&Policy=eyJTdGF0ZW1lbnQiOlt7IkNvbmRpdGlvbiI6eyJEYXRlTGVzc1RoYW4iOnsiQVdTOkVwb2NoVGltZSI6MTcwMTk1NDkyMH19LCJSZXNvdXJjZSI6Imh0dHBzOi8vY2RuLWxmcy5odWdnaW5nZmFjZS5jby9yZXBvcy9jZC9hMS9jZGExODZiNWY2MmQ2MTYwNmIzNTk1Y2Q2NjYwZGZhYzJmNTI5YzY3NjNiZTRmNDAyZGM2MTgxOGUzNTNkMWQ3L2E1NGM5NDRlNGMwNGU5ZDljYTQzNDY4ZWY1YjkwZWEwNDA4YmI2MjY0ODI5YTQ5ODBkZTc5YTc2OGRmNzE3OWY%7EcmVzcG9uc2UtY29udGVudC1kaXNwb3NpdGlvbj0qIn1dfQ__&Signature=AtBhbkqUiO4SSTgT76naRaAJLYh1L37Z2kRnuNAKUXebKQxaU7k8YoQ6xPNz64Vfs7ym3eMsICliUhgHiCBUeV-iJU9GvSDjnfaxmBvX2TDpVdq3XeVG76NP7QeMaQhCQ6pPo8gzgN8ymeTHg4mZmmlbOB%7EQD8nlijPTEOnwKPn3spNZBseSgvgOaIY8LM6hlCvfcvZ6LbGrpqcGP%7E9FX3pis%7EyP91ZHJ4jAjWWWWbyqPOZcFX6a1fzpIs34i57wXoZHp5RWmd2hvg3Ous0VDSHosMsX68ugPPN7u-YIUCmAEf81iIjWvHL8iBVYRpNzef0FuR0pfWrFPivu25Jzog__&Key-Pair-Id=KVTP0A1DKRTAX [following]\n",
            "--2023-12-04 13:15:20--  https://cdn-lfs.huggingface.co/repos/cd/a1/cda186b5f62d61606b3595cd6660dfac2f529c6763be4f402dc61818e353d1d7/a54c944e4c04e9d9ca43468ef5b90ea0408bb6264829a4980de79a768df7179f?response-content-disposition=attachment%3B+filename*%3DUTF-8%27%27Counterfeit-V3.0_fix_fp16.safetensors%3B+filename%3D%22Counterfeit-V3.0_fix_fp16.safetensors%22%3B&Expires=1701954920&Policy=eyJTdGF0ZW1lbnQiOlt7IkNvbmRpdGlvbiI6eyJEYXRlTGVzc1RoYW4iOnsiQVdTOkVwb2NoVGltZSI6MTcwMTk1NDkyMH19LCJSZXNvdXJjZSI6Imh0dHBzOi8vY2RuLWxmcy5odWdnaW5nZmFjZS5jby9yZXBvcy9jZC9hMS9jZGExODZiNWY2MmQ2MTYwNmIzNTk1Y2Q2NjYwZGZhYzJmNTI5YzY3NjNiZTRmNDAyZGM2MTgxOGUzNTNkMWQ3L2E1NGM5NDRlNGMwNGU5ZDljYTQzNDY4ZWY1YjkwZWEwNDA4YmI2MjY0ODI5YTQ5ODBkZTc5YTc2OGRmNzE3OWY%7EcmVzcG9uc2UtY29udGVudC1kaXNwb3NpdGlvbj0qIn1dfQ__&Signature=AtBhbkqUiO4SSTgT76naRaAJLYh1L37Z2kRnuNAKUXebKQxaU7k8YoQ6xPNz64Vfs7ym3eMsICliUhgHiCBUeV-iJU9GvSDjnfaxmBvX2TDpVdq3XeVG76NP7QeMaQhCQ6pPo8gzgN8ymeTHg4mZmmlbOB%7EQD8nlijPTEOnwKPn3spNZBseSgvgOaIY8LM6hlCvfcvZ6LbGrpqcGP%7E9FX3pis%7EyP91ZHJ4jAjWWWWbyqPOZcFX6a1fzpIs34i57wXoZHp5RWmd2hvg3Ous0VDSHosMsX68ugPPN7u-YIUCmAEf81iIjWvHL8iBVYRpNzef0FuR0pfWrFPivu25Jzog__&Key-Pair-Id=KVTP0A1DKRTAX\n",
            "Resolving cdn-lfs.huggingface.co (cdn-lfs.huggingface.co)... 3.163.125.41, 3.163.125.79, 3.163.125.111, ...\n",
            "Connecting to cdn-lfs.huggingface.co (cdn-lfs.huggingface.co)|3.163.125.41|:443... connected.\n",
            "HTTP request sent, awaiting response... 200 OK\n",
            "Length: 2132651162 (2.0G) [binary/octet-stream]\n",
            "Saving to: ‘/content/AnimateDiff/models/DreamBooth_LoRA/Counterfeit-V3.0_fix_fp16.safetensors’\n",
            "\n",
            "Counterfeit-V3.0_fi 100%[===================>]   1.99G   235MB/s    in 8.2s    \n",
            "\n",
            "2023-12-04 13:15:29 (249 MB/s) - ‘/content/AnimateDiff/models/DreamBooth_LoRA/Counterfeit-V3.0_fix_fp16.safetensors’ saved [2132651162/2132651162]\n",
            "\n"
          ]
        }
      ]
    },
    {
      "cell_type": "code",
      "source": [
        "!python -m scripts.animate --config /content/AnimateDiff/configs/prompts/v2/0-Counterfeit-V3.0.yaml --pretrained_model_path /content/AnimateDiff/models/StableDiffusion\n"
      ],
      "metadata": {
        "colab": {
          "base_uri": "https://localhost:8080/"
        },
        "id": "Af7WRdUd99_d",
        "outputId": "661b6674-0c54-4b7a-a659-0865e02cd157"
      },
      "execution_count": null,
      "outputs": [
        {
          "output_type": "stream",
          "name": "stdout",
          "text": [
            "2023-12-04 13:20:47.015004: E tensorflow/compiler/xla/stream_executor/cuda/cuda_dnn.cc:9342] Unable to register cuDNN factory: Attempting to register factory for plugin cuDNN when one has already been registered\n",
            "2023-12-04 13:20:47.015067: E tensorflow/compiler/xla/stream_executor/cuda/cuda_fft.cc:609] Unable to register cuFFT factory: Attempting to register factory for plugin cuFFT when one has already been registered\n",
            "2023-12-04 13:20:47.015106: E tensorflow/compiler/xla/stream_executor/cuda/cuda_blas.cc:1518] Unable to register cuBLAS factory: Attempting to register factory for plugin cuBLAS when one has already been registered\n",
            "2023-12-04 13:20:48.862398: W tensorflow/compiler/tf2tensorrt/utils/py_utils.cc:38] TF-TRT Warning: Could not find TensorRT\n",
            "loaded temporal unet's pretrained weights from /content/AnimateDiff/models/StableDiffusion/unet ...\n",
            "### missing keys: 588; \n",
            "### unexpected keys: 0;\n",
            "### Temporal Module Parameters: 453.20928 M\n",
            "load motion module from models/Motion_Module/mm_sd_v15_v2.ckpt\n",
            "load dreambooth model from models/DreamBooth_LoRA/Counterfeit-V3.0_fix_fp16.safetensors\n",
            "config.json: 100% 4.52k/4.52k [00:00<00:00, 18.6MB/s]\n",
            "model.safetensors: 100% 1.71G/1.71G [00:26<00:00, 65.7MB/s]\n",
            "current seed: 1\n",
            "sampling cute cat ear maid, best quality, high quality ...\n",
            "100% 25/25 [03:49<00:00,  9.16s/it]\n",
            "100% 16/16 [00:05<00:00,  2.77it/s]\n",
            "save to samples/0-Counterfeit-V3.0-2023-12-04T13-20-50/sample/cute-cat-ear-maid,-best-quality,-high-quality.gif\n"
          ]
        }
      ]
    },
    {
      "cell_type": "code",
      "source": [],
      "metadata": {
        "id": "DJ36YKeI-Jvs"
      },
      "execution_count": null,
      "outputs": []
    }
  ]
}